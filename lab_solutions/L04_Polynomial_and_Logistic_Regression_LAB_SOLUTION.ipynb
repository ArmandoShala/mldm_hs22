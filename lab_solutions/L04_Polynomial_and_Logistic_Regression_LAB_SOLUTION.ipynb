{
 "cells": [
  {
   "cell_type": "code",
   "execution_count": 1,
   "metadata": {
    "executionInfo": {
     "elapsed": 1041,
     "status": "ok",
     "timestamp": 1666603670454,
     "user": {
      "displayName": "Pius von Däniken",
      "userId": "06131843237925992487"
     },
     "user_tz": -120
    },
    "id": "pAJRKdv9QA4C"
   },
   "outputs": [],
   "source": [
    "import numpy as np\n",
    "import pandas as pd\n",
    "from matplotlib import pyplot as plt"
   ]
  },
  {
   "cell_type": "code",
   "execution_count": 2,
   "metadata": {
    "executionInfo": {
     "elapsed": 16,
     "status": "ok",
     "timestamp": 1666603670456,
     "user": {
      "displayName": "Pius von Däniken",
      "userId": "06131843237925992487"
     },
     "user_tz": -120
    },
    "id": "D1m4qcrpXdTt"
   },
   "outputs": [],
   "source": [
    "RANDOM_SEED = 0x0"
   ]
  },
  {
   "cell_type": "markdown",
   "metadata": {
    "id": "Ia9s_Q-KXf0T"
   },
   "source": [
    "# TASK 1 Polynomial Regression (4 Points): "
   ]
  },
  {
   "cell_type": "markdown",
   "metadata": {
    "id": "VV0Z3OdeXpha"
   },
   "source": [
    "Let's create and explore the data."
   ]
  },
  {
   "cell_type": "code",
   "execution_count": 3,
   "metadata": {
    "executionInfo": {
     "elapsed": 14,
     "status": "ok",
     "timestamp": 1666603670457,
     "user": {
      "displayName": "Pius von Däniken",
      "userId": "06131843237925992487"
     },
     "user_tz": -120
    },
    "id": "nb5WsezldFla"
   },
   "outputs": [],
   "source": [
    "# set the random seed to an integer, so that everyone has the same data to work with\n",
    "np.random.seed(seed=RANDOM_SEED)\n",
    "# create predictor variable, that have standard normal distribution and reshape it in order to use for the model training\n",
    "x = np.random.normal(0, 1, 100).reshape(-1, 1)\n",
    "# create target variable\n",
    "y = 3*x**3 + 2*x**2 + x + np.random.normal(0, 10, 100).reshape(-1, 1)"
   ]
  },
  {
   "cell_type": "markdown",
   "metadata": {
    "id": "E65IxT1Bwpmk"
   },
   "source": [
    "Visualise the data"
   ]
  },
  {
   "cell_type": "code",
   "execution_count": 4,
   "metadata": {
    "colab": {
     "base_uri": "https://localhost:8080/",
     "height": 269
    },
    "executionInfo": {
     "elapsed": 13,
     "status": "ok",
     "timestamp": 1666603670458,
     "user": {
      "displayName": "Pius von Däniken",
      "userId": "06131843237925992487"
     },
     "user_tz": -120
    },
    "id": "nCZgTYP3fZe7",
    "outputId": "af9356cf-4742-47e9-f39c-163dccaea0a7"
   },
   "outputs": [
    {
     "data": {
      "image/png": "[encoded data removed]",
      "text/plain": [
       "<Figure size 432x288 with 1 Axes>"
      ]
     },
     "metadata": {
      "needs_background": "light"
     },
     "output_type": "display_data"
    }
   ],
   "source": [
    "plt.scatter(x, y)\n",
    "plt.show()"
   ]
  },
  {
   "cell_type": "markdown",
   "metadata": {
    "id": "Cx8aSpUnJCI7"
   },
   "source": [
    "## Task 1a\n",
    "Apply Linear Regression on the data\n"
   ]
  },
  {
   "cell_type": "markdown",
   "metadata": {
    "id": "nvRxguOTJnjS"
   },
   "source": [
    "1. Split the data in the train and test set (80/20)."
   ]
  },
  {
   "cell_type": "code",
   "execution_count": 5,
   "metadata": {
    "executionInfo": {
     "elapsed": 280,
     "status": "ok",
     "timestamp": 1666603670727,
     "user": {
      "displayName": "Pius von Däniken",
      "userId": "06131843237925992487"
     },
     "user_tz": -120
    },
    "id": "ti7myWk7KS8Z"
   },
   "outputs": [],
   "source": [
    "from sklearn.model_selection import train_test_split\n",
    "X_train, X_test, y_train, y_test = train_test_split(x, y, test_size=0.2, random_state=RANDOM_SEED)"
   ]
  },
  {
   "cell_type": "markdown",
   "metadata": {
    "id": "RFSaakYLJuK7"
   },
   "source": [
    "2. Apply Linear Regression on the data and predict y values for training as well test data "
   ]
  },
  {
   "cell_type": "code",
   "execution_count": 6,
   "metadata": {
    "executionInfo": {
     "elapsed": 437,
     "status": "ok",
     "timestamp": 1666603671155,
     "user": {
      "displayName": "Pius von Däniken",
      "userId": "06131843237925992487"
     },
     "user_tz": -120
    },
    "id": "Ez6t4Q4P82Qo"
   },
   "outputs": [],
   "source": [
    "from sklearn.linear_model import LinearRegression \n",
    "\n",
    "lr_model = LinearRegression()\n",
    "lr_model.fit(X_train, y_train)\n",
    "\n",
    "y_pred = lr_model.predict(X_train)\n",
    "y_pred_test = lr_model.predict(X_test)"
   ]
  },
  {
   "cell_type": "markdown",
   "metadata": {
    "id": "P1k6VBGk8yI6"
   },
   "source": [
    "3. Calculate MSE for training as well as for test data."
   ]
  },
  {
   "cell_type": "code",
   "execution_count": 7,
   "metadata": {
    "colab": {
     "base_uri": "https://localhost:8080/"
    },
    "executionInfo": {
     "elapsed": 15,
     "status": "ok",
     "timestamp": 1666603671156,
     "user": {
      "displayName": "Pius von Däniken",
      "userId": "06131843237925992487"
     },
     "user_tz": -120
    },
    "id": "qJGjXK8aKD8q",
    "outputId": "a87526a7-d243-480d-b022-bc6d69e21798"
   },
   "outputs": [
    {
     "name": "stdout",
     "output_type": "stream",
     "text": [
      "MSE of training data: 131.3354142667106\n",
      "MSE of test data: 135.78381860019297\n"
     ]
    }
   ],
   "source": [
    "\n",
    "from sklearn.metrics import mean_squared_error\n",
    "\n",
    "mse_train = mean_squared_error(y_train, y_pred)\n",
    "mse_test = mean_squared_error(y_test, y_pred_test)\n",
    "\n",
    "print(f\"MSE of training data: {mse_train}\")\n",
    "print(f\"MSE of test data: {mse_test}\")"
   ]
  },
  {
   "cell_type": "markdown",
   "metadata": {
    "id": "T0VOmhngKEQL"
   },
   "source": [
    "Visualize the model. Plot all the data as well as Linear Regression predictions."
   ]
  },
  {
   "cell_type": "code",
   "execution_count": 8,
   "metadata": {
    "colab": {
     "base_uri": "https://localhost:8080/",
     "height": 269
    },
    "executionInfo": {
     "elapsed": 13,
     "status": "ok",
     "timestamp": 1666603671158,
     "user": {
      "displayName": "Pius von Däniken",
      "userId": "06131843237925992487"
     },
     "user_tz": -120
    },
    "id": "yLwMEWirLLBA",
    "outputId": "faff99fb-2823-4461-8865-cb563d4f9a85"
   },
   "outputs": [
    {
     "data": {
      "image/png": "[encoded data removed]",
      "text/plain": [
       "<Figure size 432x288 with 1 Axes>"
      ]
     },
     "metadata": {
      "needs_background": "light"
     },
     "output_type": "display_data"
    }
   ],
   "source": [
    "plt.scatter(x, y, s=10)\n",
    "plt.scatter(X_train, y_pred, color='r', s=10)\n",
    "plt.scatter(X_test, y_pred_test, color='g', s=10)\n",
    "plt.show()"
   ]
  },
  {
   "cell_type": "markdown",
   "metadata": {
    "id": "zwsmpB3oMJZf"
   },
   "source": [
    "## Task 1b\n",
    "Investigate how well polynomial regression with polynomial degrees = 2 can solve the task. In order to do so, follow these steps:\n",
    "1. Transform the data accordingly to describe polynomial distribution of degree=2\n",
    "2. Train a Linear Regression model on polynomial data\n",
    "3. Make predictions for training data\n",
    "4. Make predictions for test data\n",
    "5. Calculate MSE for training as well as test data"
   ]
  },
  {
   "cell_type": "code",
   "execution_count": 9,
   "metadata": {
    "colab": {
     "base_uri": "https://localhost:8080/"
    },
    "executionInfo": {
     "elapsed": 25,
     "status": "ok",
     "timestamp": 1666603671467,
     "user": {
      "displayName": "Pius von Däniken",
      "userId": "06131843237925992487"
     },
     "user_tz": -120
    },
    "id": "oxni0o041MYH",
    "outputId": "bcb3629f-e8b4-4806-a5fe-aecb217bdf53"
   },
   "outputs": [
    {
     "name": "stdout",
     "output_type": "stream",
     "text": [
      "MSE of training data: 129.64199704420645\n",
      "MSE of test data: 128.69895330783694\n"
     ]
    }
   ],
   "source": [
    "from sklearn.preprocessing import PolynomialFeatures\n",
    "\n",
    "polynomial_features= PolynomialFeatures(degree=2)\n",
    "x_poly = polynomial_features.fit_transform(X_train)\n",
    "\n",
    "model = LinearRegression()\n",
    "model.fit(x_poly, y_train)\n",
    "y_poly_pred = model.predict(x_poly)\n",
    "y_poly_pred_test = model.predict(polynomial_features.fit_transform(X_test))\n",
    "\n",
    "mse_train_poly = mean_squared_error(y_train, y_poly_pred)\n",
    "mse_test_poly = mean_squared_error(y_test, y_poly_pred_test)\n",
    "\n",
    "print(f\"MSE of training data: {mse_train_poly}\")\n",
    "print(f\"MSE of test data: {mse_test_poly}\")"
   ]
  },
  {
   "cell_type": "markdown",
   "metadata": {
    "id": "nhbIv-toOFoV"
   },
   "source": [
    "Did it perform better than Linear Regression? Visualize the results."
   ]
  },
  {
   "cell_type": "code",
   "execution_count": 10,
   "metadata": {
    "colab": {
     "base_uri": "https://localhost:8080/",
     "height": 269
    },
    "executionInfo": {
     "elapsed": 17,
     "status": "ok",
     "timestamp": 1666603671467,
     "user": {
      "displayName": "Pius von Däniken",
      "userId": "06131843237925992487"
     },
     "user_tz": -120
    },
    "id": "yFNrIwDuOUXo",
    "outputId": "d9c321a3-146c-4809-a046-4fb9e28f23dc"
   },
   "outputs": [
    {
     "data": {
      "image/png": "[encoded data removed]",
      "text/plain": [
       "<Figure size 432x288 with 1 Axes>"
      ]
     },
     "metadata": {
      "needs_background": "light"
     },
     "output_type": "display_data"
    }
   ],
   "source": [
    "plt.scatter(x, y, s=10)\n",
    "plt.scatter(X_train, y_poly_pred, color='r', s=10)\n",
    "plt.scatter(X_test, y_poly_pred_test, color='g', s=10)\n",
    "plt.show()"
   ]
  },
  {
   "cell_type": "markdown",
   "metadata": {
    "id": "lR_v9mTWOVNj"
   },
   "source": [
    "## Task 1c\n",
    "Investigate the influence of polynomial degrees on the results. Consider degrees in range(0, 10). Plot MSE (on training as well as test data) depending on the number of the polynomial degrees. "
   ]
  },
  {
   "cell_type": "code",
   "execution_count": 11,
   "metadata": {
    "colab": {
     "base_uri": "https://localhost:8080/",
     "height": 1000
    },
    "executionInfo": {
     "elapsed": 1983,
     "status": "ok",
     "timestamp": 1666603673440,
     "user": {
      "displayName": "Pius von Däniken",
      "userId": "06131843237925992487"
     },
     "user_tz": -120
    },
    "id": "4YFTQqWZO_Jx",
    "outputId": "6ed93099-a5f9-4416-bba1-95c650f8b9a3"
   },
   "outputs": [
    {
     "data": {
      "image/png": "[encoded data removed]",
      "text/plain": [
       "<Figure size 432x288 with 1 Axes>"
      ]
     },
     "metadata": {
      "needs_background": "light"
     },
     "output_type": "display_data"
    },
    {
     "data": {
      "image/png": "[encoded data removed]",
      "text/plain": [
       "<Figure size 432x288 with 1 Axes>"
      ]
     },
     "metadata": {
      "needs_background": "light"
     },
     "output_type": "display_data"
    },
    {
     "data": {
      "image/png": "[encoded data removed]",
      "text/plain": [
       "<Figure size 432x288 with 1 Axes>"
      ]
     },
     "metadata": {
      "needs_background": "light"
     },
     "output_type": "display_data"
    },
    {
     "data": {
      "image/png": "[encoded data removed]",
      "text/plain": [
       "<Figure size 432x288 with 1 Axes>"
      ]
     },
     "metadata": {
      "needs_background": "light"
     },
     "output_type": "display_data"
    },
    {
     "data": {
      "image/png": "[encoded data removed]",
      "text/plain": [
       "<Figure size 432x288 with 1 Axes>"
      ]
     },
     "metadata": {
      "needs_background": "light"
     },
     "output_type": "display_data"
    },
    {
     "data": {
      "image/png": "[encoded data removed]",
      "text/plain": [
       "<Figure size 432x288 with 1 Axes>"
      ]
     },
     "metadata": {
      "needs_background": "light"
     },
     "output_type": "display_data"
    },
    {
     "data": {
      "image/png": "[encoded data removed]",
      "text/plain": [
       "<Figure size 432x288 with 1 Axes>"
      ]
     },
     "metadata": {
      "needs_background": "light"
     },
     "output_type": "display_data"
    },
    {
     "data": {
      "image/png": "[encoded data removed]",
      "text/plain": [
       "<Figure size 432x288 with 1 Axes>"
      ]
     },
     "metadata": {
      "needs_background": "light"
     },
     "output_type": "display_data"
    },
    {
     "data": {
      "image/png": "[encoded data removed]",
      "text/plain": [
       "<Figure size 432x288 with 1 Axes>"
      ]
     },
     "metadata": {
      "needs_background": "light"
     },
     "output_type": "display_data"
    },
    {
     "data": {
      "image/png": "[encoded data removed]",
      "text/plain": [
       "<Figure size 432x288 with 1 Axes>"
      ]
     },
     "metadata": {
      "needs_background": "light"
     },
     "output_type": "display_data"
    },
    {
     "data": {
      "image/png": "[encoded data removed]",
      "text/plain": [
       "<Figure size 432x288 with 1 Axes>"
      ]
     },
     "metadata": {
      "needs_background": "light"
     },
     "output_type": "display_data"
    },
    {
     "data": {
      "image/png": "[encoded data removed]",
      "text/plain": [
       "<Figure size 432x288 with 1 Axes>"
      ]
     },
     "metadata": {
      "needs_background": "light"
     },
     "output_type": "display_data"
    }
   ],
   "source": [
    "mse_train_list, mse_test_list = [], []\n",
    "for degrees in range(0, 11):\n",
    "  polynomial_features = PolynomialFeatures(degree=degrees)\n",
    "  x_poly = polynomial_features.fit_transform(X_train)\n",
    "\n",
    "  model = LinearRegression()\n",
    "  model.fit(x_poly, y_train)\n",
    "  y_poly_pred = model.predict(x_poly)\n",
    "  y_poly_pred_test = model.predict(polynomial_features.transform(X_test))\n",
    "\n",
    "  mse_train = mean_squared_error(y_train, y_poly_pred)\n",
    "  mse_test = mean_squared_error(y_test, y_poly_pred_test)\n",
    "\n",
    "  mse_train_list.append(mse_train)\n",
    "  mse_test_list.append(mse_test)\n",
    "\n",
    "  plt.scatter(x, y, s=10)\n",
    "  plt.scatter(X_train, y_poly_pred, color='r', s=10)\n",
    "  plt.scatter(X_test, y_poly_pred_test, color='g', s=10)\n",
    "  plt.show()\n",
    "\n",
    "plt.plot(range(0, 11), mse_train_list, color=\"blue\", label=\"MSE training\")\n",
    "plt.plot(range(0, 11), mse_test_list, color=\"green\", label=\"MSE test\")\n",
    "plt.legend()\n",
    "plt.show()"
   ]
  },
  {
   "cell_type": "markdown",
   "metadata": {
    "id": "Y6QpfImYEI1l"
   },
   "source": [
    "What is the optimal value of the polynomial degrees? Do the values of MSE training and MSE test behave similarly? What event takes place in the models with polynomial degrees >= 8? \n",
    "\n",
    "Please answer these questions in Moodle. "
   ]
  },
  {
   "cell_type": "markdown",
   "metadata": {
    "id": "LEL6o4fjHRr7"
   },
   "source": [
    "# Task 2: Polynomial Data Transformation (1 Point)\n",
    "\n",
    "As we have seen in the lecture, Polynomial Regression is nothing other than a generalization of Linear Regression. Every polynomial Regression can be expressed as a Multivariate Linear Regression. Only transformation of the initial data has to be done.\n",
    "\n",
    " $h_\\theta(a) = \\theta_0 + \\theta_1a_1 +\\theta_2a_2 $, where\n",
    " $ a_0 = v^0, a_1 = v^1, a_2 = v^2 $\n",
    "\n",
    "In Task 1 `sklearn.preprocessing.PolynomialFeatures` transformed the X data for us. But in order to understand what exactly it is done to the data, in this task we transform an initial data array $v$ to \n",
    "the form $(a_1...a_n)$ that can be used to build a Polynomial Regression model with polynomial degrees=2 by hand (without using `sklearn.preprocessing.PolynomialFeatures`). Please transform the array $v$ and insert your answer in Moodle."
   ]
  },
  {
   "cell_type": "markdown",
   "metadata": {
    "id": "XhNaBsV4HcRx"
   },
   "source": [
    "\\begin{align}\n",
    "v=\n",
    "\\begin{bmatrix}\n",
    "3 \\\\\n",
    "2 \\\\\n",
    "0 \\\\\n",
    "\\end{bmatrix}\n",
    "\\end{align}"
   ]
  },
  {
   "cell_type": "markdown",
   "metadata": {
    "id": "s1ePo5iMVbCX"
   },
   "source": [
    "### Solution"
   ]
  },
  {
   "cell_type": "markdown",
   "metadata": {
    "id": "HpyxvzxkUT8A"
   },
   "source": [
    "\\begin{align}\n",
    "v_{poly} =\n",
    "\\begin{bmatrix}\n",
    "1 & 3 & 9 \\\\\n",
    "1 & 2 & 4 \\\\\n",
    "1 & 0 & 0 \\\\\n",
    "\\end{bmatrix}\n",
    "\\end{align}\n"
   ]
  },
  {
   "cell_type": "code",
   "execution_count": 12,
   "metadata": {
    "colab": {
     "base_uri": "https://localhost:8080/"
    },
    "executionInfo": {
     "elapsed": 1053,
     "status": "ok",
     "timestamp": 1666603674481,
     "user": {
      "displayName": "Pius von Däniken",
      "userId": "06131843237925992487"
     },
     "user_tz": -120
    },
    "id": "FZjoUz_JWyZ_",
    "outputId": "0b996986-dc9e-4edb-99bf-f535f863ddfd"
   },
   "outputs": [
    {
     "name": "stdout",
     "output_type": "stream",
     "text": [
      "[[1. 3. 9.]\n",
      " [1. 2. 4.]\n",
      " [1. 0. 0.]]\n"
     ]
    }
   ],
   "source": [
    "vec1 = np.array([3, 2, 0]).reshape((3, -1))\n",
    "polynomial_features = PolynomialFeatures(degree=2)\n",
    "print(polynomial_features.fit_transform(vec1))"
   ]
  },
  {
   "cell_type": "markdown",
   "metadata": {
    "id": "wSUV5eB-Hr4u"
   },
   "source": [
    "# Task 3: Logistic Regression (6 Points)"
   ]
  },
  {
   "cell_type": "code",
   "execution_count": 13,
   "metadata": {
    "executionInfo": {
     "elapsed": 8,
     "status": "ok",
     "timestamp": 1666603674482,
     "user": {
      "displayName": "Pius von Däniken",
      "userId": "06131843237925992487"
     },
     "user_tz": -120
    },
    "id": "prescribed-lawyer"
   },
   "outputs": [],
   "source": [
    "import pandas as pd\n",
    "import numpy as np\n",
    "import matplotlib.pyplot as plt\n",
    "from random import randrange\n",
    "import seaborn as sns\n",
    "sns.set() # just the theme"
   ]
  },
  {
   "cell_type": "markdown",
   "metadata": {
    "id": "according-boating"
   },
   "source": [
    "## Task 3a. Data Exploration and Preprocessing\n",
    "\n",
    "We are using the Fashion MNIST Dataset from Zalando. \n",
    "Firstly, we load the dataset.\n",
    "\n"
   ]
  },
  {
   "cell_type": "code",
   "execution_count": 14,
   "metadata": {
    "colab": {
     "base_uri": "https://localhost:8080/"
    },
    "executionInfo": {
     "elapsed": 6357,
     "status": "ok",
     "timestamp": 1666603680833,
     "user": {
      "displayName": "Pius von Däniken",
      "userId": "06131843237925992487"
     },
     "user_tz": -120
    },
    "id": "wR0ijS0VZ6dk",
    "outputId": "0ff065ef-5a57-4e8b-eb23-a85bc9a8e3ec"
   },
   "outputs": [
    {
     "ename": "ModuleNotFoundError",
     "evalue": "No module named 'keras'",
     "output_type": "error",
     "traceback": [
      "\u001b[0;31m---------------------------------------------------------------------------\u001b[0m",
      "\u001b[0;31mModuleNotFoundError\u001b[0m                       Traceback (most recent call last)",
      "Input \u001b[0;32mIn [14]\u001b[0m, in \u001b[0;36m<cell line: 1>\u001b[0;34m()\u001b[0m\n\u001b[0;32m----> 1\u001b[0m \u001b[38;5;28;01mfrom\u001b[39;00m \u001b[38;5;21;01mkeras\u001b[39;00m\u001b[38;5;21;01m.\u001b[39;00m\u001b[38;5;21;01mdatasets\u001b[39;00m \u001b[38;5;28;01mimport\u001b[39;00m fashion_mnist\n\u001b[1;32m      2\u001b[0m (X_train, y_train), (X_test, y_test) \u001b[38;5;241m=\u001b[39m fashion_mnist\u001b[38;5;241m.\u001b[39mload_data()\n\u001b[1;32m      3\u001b[0m \u001b[38;5;28mprint\u001b[39m(X_train\u001b[38;5;241m.\u001b[39mshape)  \n",
      "\u001b[0;31mModuleNotFoundError\u001b[0m: No module named 'keras'"
     ]
    }
   ],
   "source": [
    "from keras.datasets import fashion_mnist\n",
    "(X_train, y_train), (X_test, y_test) = fashion_mnist.load_data()\n",
    "print(X_train.shape)  \n",
    "print(y_train.shape)\n",
    "print(X_train.dtype)\n",
    "print(y_train.dtype)"
   ]
  },
  {
   "cell_type": "code",
   "execution_count": null,
   "metadata": {
    "executionInfo": {
     "elapsed": 9,
     "status": "ok",
     "timestamp": 1666603680835,
     "user": {
      "displayName": "Pius von Däniken",
      "userId": "06131843237925992487"
     },
     "user_tz": -120
    },
    "id": "1fd78190-5445-4c53-9b7f-4a0f7aeaf87c"
   },
   "outputs": [],
   "source": [
    "label_names = ['T-shirt/top', 'Trouser', 'Pullover', 'Dress', 'Coat', \n",
    "               'Sandal', 'Shirt', 'Sneaker', 'Bag', 'Ankle boot']"
   ]
  },
  {
   "cell_type": "markdown",
   "metadata": {
    "id": "_9FX76IifOik"
   },
   "source": [
    "In following task we will only use training part of the dataset."
   ]
  },
  {
   "cell_type": "markdown",
   "metadata": {
    "id": "NPByThvGhhWU"
   },
   "source": [
    "#### Prepare data \n",
    "1. assign following datatypes to the arrays:\n",
    "   - X_train -> 'float32'\n",
    "   - y_train -> 'int64'\n",
    "2. reshape X_train to 2-dimensional array. \n",
    "Note: \n",
    "   - it should have the same amount of samples/rows.\n",
    "   - the pictures are in greyscale, it means they have only one value of color per pixel.\n",
    "3. split the training data into (X_train, y_train) and (X_valid, y_valid), set the size of the validation dataset to 20% of the data and set random state = 42."
   ]
  },
  {
   "cell_type": "code",
   "execution_count": null,
   "metadata": {
    "colab": {
     "base_uri": "https://localhost:8080/"
    },
    "executionInfo": {
     "elapsed": 384,
     "status": "ok",
     "timestamp": 1666603681212,
     "user": {
      "displayName": "Pius von Däniken",
      "userId": "06131843237925992487"
     },
     "user_tz": -120
    },
    "id": "c32c2f3e-0c8d-4287-bb74-9bd0315f18ce",
    "outputId": "1cebfa19-ecca-4770-d6ed-2ad9e3440191"
   },
   "outputs": [],
   "source": [
    "X_train = np.array(X_train, dtype = 'float32').reshape((60000, 28*28))\n",
    "y_train = np.array(y_train, dtype = 'int64')\n",
    "print(X_train.shape)\n",
    "print(y_train.shape)\n",
    "print(X_train.dtype)\n",
    "print(y_train.dtype)"
   ]
  },
  {
   "cell_type": "code",
   "execution_count": null,
   "metadata": {
    "colab": {
     "base_uri": "https://localhost:8080/"
    },
    "executionInfo": {
     "elapsed": 260,
     "status": "ok",
     "timestamp": 1666603681466,
     "user": {
      "displayName": "Pius von Däniken",
      "userId": "06131843237925992487"
     },
     "user_tz": -120
    },
    "id": "d3b1f9ef-da3e-445e-b8b0-8adfa6871f14",
    "outputId": "c5fa3943-df82-410c-f8e7-5f8e481c5548"
   },
   "outputs": [],
   "source": [
    "from sklearn.model_selection import train_test_split\n",
    "X_train, X_valid, y_train, y_valid = train_test_split(X_train, y_train, test_size=0.2, random_state=42)\n",
    "print(X_train.shape)\n",
    "print(y_train.shape)\n",
    "print(X_train.dtype)\n",
    "print(y_train.dtype)"
   ]
  },
  {
   "cell_type": "markdown",
   "metadata": {
    "id": "26YTJ4uQYE46"
   },
   "source": [
    "#### Visualize some data \n",
    "Plot 25 images (hint: use ``imshow`` and ``subplots`` from matplotlib library), plot the label as title (e.g. shorts)."
   ]
  },
  {
   "cell_type": "code",
   "execution_count": null,
   "metadata": {
    "colab": {
     "base_uri": "https://localhost:8080/",
     "height": 592
    },
    "executionInfo": {
     "elapsed": 3645,
     "status": "ok",
     "timestamp": 1666603685109,
     "user": {
      "displayName": "Pius von Däniken",
      "userId": "06131843237925992487"
     },
     "user_tz": -120
    },
    "id": "1ee386c1-8502-4422-8a1c-8c852e67ac40",
    "outputId": "8639c724-6e9e-4231-d222-47b7165a184a"
   },
   "outputs": [],
   "source": [
    "plt.figure(figsize=(10,10))\n",
    "for i in range(25):\n",
    "    plt.subplot(5,5,i+1)\n",
    "    plt.xticks([]) # empty x-ticks\n",
    "    plt.yticks([]) # empty y-ticks\n",
    "    plt.grid(False)\n",
    "    plt.imshow(X_train[i].reshape(28,28))\n",
    "    plt.xlabel(label_names[y_train[i]])\n",
    "plt.show()"
   ]
  },
  {
   "cell_type": "markdown",
   "metadata": {
    "id": "b61c7d24-8e54-4827-a15f-b0ae553d5743"
   },
   "source": [
    "#### Normalize the Images\n",
    "With mean and standard deviation"
   ]
  },
  {
   "cell_type": "code",
   "execution_count": null,
   "metadata": {
    "executionInfo": {
     "elapsed": 410,
     "status": "ok",
     "timestamp": 1666603685512,
     "user": {
      "displayName": "Pius von Däniken",
      "userId": "06131843237925992487"
     },
     "user_tz": -120
    },
    "id": "cdf0d1e7-0466-4a49-a349-6b27a9aa3662"
   },
   "outputs": [],
   "source": [
    "mean, std = np.mean(X_train), np.std(X_train)\n",
    "\n",
    "X_train = (X_train - mean) / std\n",
    "X_valid = (X_valid - mean) / std"
   ]
  },
  {
   "cell_type": "markdown",
   "metadata": {
    "id": "j8PbfyymH7Vs"
   },
   "source": [
    "## Task 3b. Logistic Regression\n",
    "1. Fit the `LogisticRegression` from `scikit-learn`\n",
    "2. Try different parameters (either by hand or by using `GridSearchCV`)\n",
    "\n",
    "\n",
    "**Accuracy should be >= 0.84**"
   ]
  },
  {
   "cell_type": "code",
   "execution_count": null,
   "metadata": {
    "colab": {
     "base_uri": "https://localhost:8080/"
    },
    "executionInfo": {
     "elapsed": 664077,
     "status": "ok",
     "timestamp": 1666604349585,
     "user": {
      "displayName": "Pius von Däniken",
      "userId": "06131843237925992487"
     },
     "user_tz": -120
    },
    "id": "22096d63-ba0e-4e9f-aa65-49fe8f231627",
    "outputId": "d808f946-4da4-4b49-e8e2-775de6c2b292"
   },
   "outputs": [],
   "source": [
    "from sklearn.linear_model import LogisticRegression\n",
    "from sklearn.model_selection import GridSearchCV\n",
    "from sklearn.model_selection import PredefinedSplit\n",
    "\n",
    "train_indices = np.full((X_train.shape[0],), -1, dtype=int)\n",
    "\n",
    "test_indices = np.full((X_valid.shape[0],), 0, dtype=int)\n",
    "ps = PredefinedSplit(np.append(train_indices, test_indices))\n",
    "\n",
    "params = {'C': [1., 1.3, 1.5], 'solver': ['lbfgs', 'sag']}\n",
    "\n",
    "clf = LogisticRegression(random_state=0, max_iter=100)\n",
    "opt = GridSearchCV(clf, param_grid=params, cv=ps, refit=False)\n",
    "opt.fit(np.append(X_train, X_valid, axis=0), np.append(y_train, y_valid, axis=0))\n",
    "print(opt.best_params_)"
   ]
  },
  {
   "cell_type": "code",
   "execution_count": null,
   "metadata": {
    "colab": {
     "base_uri": "https://localhost:8080/"
    },
    "executionInfo": {
     "elapsed": 22,
     "status": "ok",
     "timestamp": 1666604349585,
     "user": {
      "displayName": "Pius von Däniken",
      "userId": "06131843237925992487"
     },
     "user_tz": -120
    },
    "id": "P5XDHjQQTPXa",
    "outputId": "8eb7e630-fd5b-4d52-f5ef-b5d984b679a6"
   },
   "outputs": [],
   "source": [
    "print(opt.cv_results_)"
   ]
  },
  {
   "cell_type": "markdown",
   "metadata": {
    "id": "JFqGPd65aM_l"
   },
   "source": [
    "- Calculate the Accuracy, Precision, Recall, and F-Score on the validation set\n",
    "- Print the confusion Matrix (hint: you can use function `heatmap()` of `seaborn` library)"
   ]
  },
  {
   "cell_type": "code",
   "execution_count": null,
   "metadata": {
    "executionInfo": {
     "elapsed": 13,
     "status": "ok",
     "timestamp": 1666604349587,
     "user": {
      "displayName": "Pius von Däniken",
      "userId": "06131843237925992487"
     },
     "user_tz": -120
    },
    "id": "d34138f1-d52a-4cb1-8b49-732f4d711d7a"
   },
   "outputs": [],
   "source": [
    "from sklearn.metrics import accuracy_score\n",
    "from sklearn.metrics import f1_score\n",
    "from sklearn.metrics import precision_score\n",
    "from sklearn.metrics import recall_score\n",
    "from sklearn.metrics import confusion_matrix\n",
    "\n",
    "def evaluate_results(y_gt, y_pr):\n",
    "    print(\"Accuracy: \", accuracy_score(y_gt, y_pr))\n",
    "    print(\"Precision (micro): \", precision_score(y_gt, y_pr, average='micro'))\n",
    "    print(\"Precision (macro): \", precision_score(y_gt, y_pr, average='macro'))\n",
    "    print(\"Recall (micro): \", recall_score(y_gt, y_pr, average='micro'))\n",
    "    print(\"Recall (macro): \", recall_score(y_gt, y_pr, average='macro'))\n",
    "    print(\"F1 (micro): \", f1_score(y_gt, y_pr, average='micro'))\n",
    "    print(\"F1 (macro): \", f1_score(y_gt, y_pr, average='macro'))\n",
    "    \n",
    "    df_cm = pd.DataFrame(confusion_matrix(y_gt, y_pr), index = label_names, columns = label_names)\n",
    "    plt.figure(figsize=(10,6))\n",
    "    sns.heatmap(df_cm, annot=True, fmt=\"d\", annot_kws={\"size\": 10})\n",
    "    plt.show()"
   ]
  },
  {
   "cell_type": "markdown",
   "metadata": {
    "id": "X5JzFGLlMvk8"
   },
   "source": [
    "Use the best found parameters for the next steps."
   ]
  },
  {
   "cell_type": "code",
   "execution_count": null,
   "metadata": {
    "colab": {
     "base_uri": "https://localhost:8080/",
     "height": 687
    },
    "executionInfo": {
     "elapsed": 49166,
     "status": "ok",
     "timestamp": 1666604398743,
     "user": {
      "displayName": "Pius von Däniken",
      "userId": "06131843237925992487"
     },
     "user_tz": -120
    },
    "id": "ffd46668-c1ab-4ff6-8887-d88df66ee095",
    "outputId": "0548ed06-3e07-4ffa-8996-03318716319e"
   },
   "outputs": [],
   "source": [
    "clf = LogisticRegression(**opt.best_params_, random_state=0, max_iter=100)\n",
    "clf.fit(X_train, y_train)\n",
    "y_valid_pred = clf.predict(X_valid)\n",
    "\n",
    "evaluate_results(y_valid, y_valid_pred)"
   ]
  },
  {
   "cell_type": "code",
   "execution_count": null,
   "metadata": {
    "executionInfo": {
     "elapsed": 10,
     "status": "ok",
     "timestamp": 1666604398744,
     "user": {
      "displayName": "Pius von Däniken",
      "userId": "06131843237925992487"
     },
     "user_tz": -120
    },
    "id": "H3UTuzwpSznx"
   },
   "outputs": [],
   "source": []
  }
 ],
 "metadata": {
  "colab": {
   "collapsed_sections": [],
   "provenance": []
  },
  "kernelspec": {
   "display_name": "MLDM_HS22",
   "language": "python",
   "name": "python3"
  },
  "language_info": {
   "codemirror_mode": {
    "name": "ipython",
    "version": 3
   },
   "file_extension": ".py",
   "mimetype": "text/x-python",
   "name": "python",
   "nbconvert_exporter": "python",
   "pygments_lexer": "ipython3",
   "version": "3.9.15 (main, Nov 24 2022, 08:29:02) \n[Clang 14.0.6 ]"
  },
  "vscode": {
   "interpreter": {
    "hash": "8b4e6d78968b9dee210fd389955b78f72cbff5cf15e023af1da97f2d6bbef51f"
   }
  }
 },
 "nbformat": 4,
 "nbformat_minor": 1
}
