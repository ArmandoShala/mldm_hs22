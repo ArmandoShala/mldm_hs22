{
 "cells": [
  {
   "cell_type": "code",
   "execution_count": 2,
   "metadata": {
    "id": "8bPV9aEwTKC8"
   },
   "outputs": [],
   "source": [
    "import numpy as np\n",
    "from matplotlib import pyplot as plt\n",
    "import sklearn\n",
    "import pandas as pd"
   ]
  },
  {
   "cell_type": "code",
   "execution_count": 3,
   "metadata": {
    "id": "jFHJbjkfeepf"
   },
   "outputs": [],
   "source": [
    "RANDOM_SEED = 0x0"
   ]
  },
  {
   "cell_type": "markdown",
   "metadata": {
    "id": "ykbI8UnR6PsU"
   },
   "source": [
    "# TASK 1 (2 Points): \n",
    "\n",
    "We work with the \"Wine Recognition\" dataset. You can read more about this dataset at [https://scikit-learn.org/stable/datasets/toy_dataset.html#wine-recognition-dataset](https://scikit-learn.org/stable/datasets/toy_dataset.html#wine-recognition-dataset).\n",
    "\n",
    "The data is the results of a chemical analysis of wines grown in the same region in Italy by three different cultivators.\n",
    "The data is loaded below and split into `data` and `target`. `data` is a `Dataframe` that contains the result of the chemical analysis while `target`contains an integer representing the wine cultivator."
   ]
  },
  {
   "cell_type": "code",
   "execution_count": 4,
   "metadata": {
    "id": "em6VCOuE6MRU"
   },
   "outputs": [],
   "source": [
    "from sklearn.datasets import load_wine\n",
    "(data, target) = load_wine(return_X_y=True, as_frame=True)"
   ]
  },
  {
   "cell_type": "code",
   "execution_count": 5,
   "metadata": {
    "id": "HJoAuMNR6MgM"
   },
   "outputs": [
    {
     "data": {
      "text/html": [
       "<div>\n",
       "<style scoped>\n",
       "    .dataframe tbody tr th:only-of-type {\n",
       "        vertical-align: middle;\n",
       "    }\n",
       "\n",
       "    .dataframe tbody tr th {\n",
       "        vertical-align: top;\n",
       "    }\n",
       "\n",
       "    .dataframe thead th {\n",
       "        text-align: right;\n",
       "    }\n",
       "</style>\n",
       "<table border=\"1\" class=\"dataframe\">\n",
       "  <thead>\n",
       "    <tr style=\"text-align: right;\">\n",
       "      <th></th>\n",
       "      <th>alcohol</th>\n",
       "      <th>malic_acid</th>\n",
       "      <th>ash</th>\n",
       "      <th>alcalinity_of_ash</th>\n",
       "      <th>magnesium</th>\n",
       "      <th>total_phenols</th>\n",
       "      <th>flavanoids</th>\n",
       "      <th>nonflavanoid_phenols</th>\n",
       "      <th>proanthocyanins</th>\n",
       "      <th>color_intensity</th>\n",
       "      <th>hue</th>\n",
       "      <th>od280/od315_of_diluted_wines</th>\n",
       "      <th>proline</th>\n",
       "    </tr>\n",
       "  </thead>\n",
       "  <tbody>\n",
       "    <tr>\n",
       "      <th>0</th>\n",
       "      <td>14.23</td>\n",
       "      <td>1.71</td>\n",
       "      <td>2.43</td>\n",
       "      <td>15.6</td>\n",
       "      <td>127.0</td>\n",
       "      <td>2.80</td>\n",
       "      <td>3.06</td>\n",
       "      <td>0.28</td>\n",
       "      <td>2.29</td>\n",
       "      <td>5.64</td>\n",
       "      <td>1.04</td>\n",
       "      <td>3.92</td>\n",
       "      <td>1065.0</td>\n",
       "    </tr>\n",
       "    <tr>\n",
       "      <th>1</th>\n",
       "      <td>13.20</td>\n",
       "      <td>1.78</td>\n",
       "      <td>2.14</td>\n",
       "      <td>11.2</td>\n",
       "      <td>100.0</td>\n",
       "      <td>2.65</td>\n",
       "      <td>2.76</td>\n",
       "      <td>0.26</td>\n",
       "      <td>1.28</td>\n",
       "      <td>4.38</td>\n",
       "      <td>1.05</td>\n",
       "      <td>3.40</td>\n",
       "      <td>1050.0</td>\n",
       "    </tr>\n",
       "    <tr>\n",
       "      <th>2</th>\n",
       "      <td>13.16</td>\n",
       "      <td>2.36</td>\n",
       "      <td>2.67</td>\n",
       "      <td>18.6</td>\n",
       "      <td>101.0</td>\n",
       "      <td>2.80</td>\n",
       "      <td>3.24</td>\n",
       "      <td>0.30</td>\n",
       "      <td>2.81</td>\n",
       "      <td>5.68</td>\n",
       "      <td>1.03</td>\n",
       "      <td>3.17</td>\n",
       "      <td>1185.0</td>\n",
       "    </tr>\n",
       "    <tr>\n",
       "      <th>3</th>\n",
       "      <td>14.37</td>\n",
       "      <td>1.95</td>\n",
       "      <td>2.50</td>\n",
       "      <td>16.8</td>\n",
       "      <td>113.0</td>\n",
       "      <td>3.85</td>\n",
       "      <td>3.49</td>\n",
       "      <td>0.24</td>\n",
       "      <td>2.18</td>\n",
       "      <td>7.80</td>\n",
       "      <td>0.86</td>\n",
       "      <td>3.45</td>\n",
       "      <td>1480.0</td>\n",
       "    </tr>\n",
       "    <tr>\n",
       "      <th>4</th>\n",
       "      <td>13.24</td>\n",
       "      <td>2.59</td>\n",
       "      <td>2.87</td>\n",
       "      <td>21.0</td>\n",
       "      <td>118.0</td>\n",
       "      <td>2.80</td>\n",
       "      <td>2.69</td>\n",
       "      <td>0.39</td>\n",
       "      <td>1.82</td>\n",
       "      <td>4.32</td>\n",
       "      <td>1.04</td>\n",
       "      <td>2.93</td>\n",
       "      <td>735.0</td>\n",
       "    </tr>\n",
       "    <tr>\n",
       "      <th>...</th>\n",
       "      <td>...</td>\n",
       "      <td>...</td>\n",
       "      <td>...</td>\n",
       "      <td>...</td>\n",
       "      <td>...</td>\n",
       "      <td>...</td>\n",
       "      <td>...</td>\n",
       "      <td>...</td>\n",
       "      <td>...</td>\n",
       "      <td>...</td>\n",
       "      <td>...</td>\n",
       "      <td>...</td>\n",
       "      <td>...</td>\n",
       "    </tr>\n",
       "    <tr>\n",
       "      <th>173</th>\n",
       "      <td>13.71</td>\n",
       "      <td>5.65</td>\n",
       "      <td>2.45</td>\n",
       "      <td>20.5</td>\n",
       "      <td>95.0</td>\n",
       "      <td>1.68</td>\n",
       "      <td>0.61</td>\n",
       "      <td>0.52</td>\n",
       "      <td>1.06</td>\n",
       "      <td>7.70</td>\n",
       "      <td>0.64</td>\n",
       "      <td>1.74</td>\n",
       "      <td>740.0</td>\n",
       "    </tr>\n",
       "    <tr>\n",
       "      <th>174</th>\n",
       "      <td>13.40</td>\n",
       "      <td>3.91</td>\n",
       "      <td>2.48</td>\n",
       "      <td>23.0</td>\n",
       "      <td>102.0</td>\n",
       "      <td>1.80</td>\n",
       "      <td>0.75</td>\n",
       "      <td>0.43</td>\n",
       "      <td>1.41</td>\n",
       "      <td>7.30</td>\n",
       "      <td>0.70</td>\n",
       "      <td>1.56</td>\n",
       "      <td>750.0</td>\n",
       "    </tr>\n",
       "    <tr>\n",
       "      <th>175</th>\n",
       "      <td>13.27</td>\n",
       "      <td>4.28</td>\n",
       "      <td>2.26</td>\n",
       "      <td>20.0</td>\n",
       "      <td>120.0</td>\n",
       "      <td>1.59</td>\n",
       "      <td>0.69</td>\n",
       "      <td>0.43</td>\n",
       "      <td>1.35</td>\n",
       "      <td>10.20</td>\n",
       "      <td>0.59</td>\n",
       "      <td>1.56</td>\n",
       "      <td>835.0</td>\n",
       "    </tr>\n",
       "    <tr>\n",
       "      <th>176</th>\n",
       "      <td>13.17</td>\n",
       "      <td>2.59</td>\n",
       "      <td>2.37</td>\n",
       "      <td>20.0</td>\n",
       "      <td>120.0</td>\n",
       "      <td>1.65</td>\n",
       "      <td>0.68</td>\n",
       "      <td>0.53</td>\n",
       "      <td>1.46</td>\n",
       "      <td>9.30</td>\n",
       "      <td>0.60</td>\n",
       "      <td>1.62</td>\n",
       "      <td>840.0</td>\n",
       "    </tr>\n",
       "    <tr>\n",
       "      <th>177</th>\n",
       "      <td>14.13</td>\n",
       "      <td>4.10</td>\n",
       "      <td>2.74</td>\n",
       "      <td>24.5</td>\n",
       "      <td>96.0</td>\n",
       "      <td>2.05</td>\n",
       "      <td>0.76</td>\n",
       "      <td>0.56</td>\n",
       "      <td>1.35</td>\n",
       "      <td>9.20</td>\n",
       "      <td>0.61</td>\n",
       "      <td>1.60</td>\n",
       "      <td>560.0</td>\n",
       "    </tr>\n",
       "  </tbody>\n",
       "</table>\n",
       "<p>178 rows × 13 columns</p>\n",
       "</div>"
      ],
      "text/plain": [
       "     alcohol  malic_acid   ash  alcalinity_of_ash  magnesium  total_phenols  \\\n",
       "0      14.23        1.71  2.43               15.6      127.0           2.80   \n",
       "1      13.20        1.78  2.14               11.2      100.0           2.65   \n",
       "2      13.16        2.36  2.67               18.6      101.0           2.80   \n",
       "3      14.37        1.95  2.50               16.8      113.0           3.85   \n",
       "4      13.24        2.59  2.87               21.0      118.0           2.80   \n",
       "..       ...         ...   ...                ...        ...            ...   \n",
       "173    13.71        5.65  2.45               20.5       95.0           1.68   \n",
       "174    13.40        3.91  2.48               23.0      102.0           1.80   \n",
       "175    13.27        4.28  2.26               20.0      120.0           1.59   \n",
       "176    13.17        2.59  2.37               20.0      120.0           1.65   \n",
       "177    14.13        4.10  2.74               24.5       96.0           2.05   \n",
       "\n",
       "     flavanoids  nonflavanoid_phenols  proanthocyanins  color_intensity   hue  \\\n",
       "0          3.06                  0.28             2.29             5.64  1.04   \n",
       "1          2.76                  0.26             1.28             4.38  1.05   \n",
       "2          3.24                  0.30             2.81             5.68  1.03   \n",
       "3          3.49                  0.24             2.18             7.80  0.86   \n",
       "4          2.69                  0.39             1.82             4.32  1.04   \n",
       "..          ...                   ...              ...              ...   ...   \n",
       "173        0.61                  0.52             1.06             7.70  0.64   \n",
       "174        0.75                  0.43             1.41             7.30  0.70   \n",
       "175        0.69                  0.43             1.35            10.20  0.59   \n",
       "176        0.68                  0.53             1.46             9.30  0.60   \n",
       "177        0.76                  0.56             1.35             9.20  0.61   \n",
       "\n",
       "     od280/od315_of_diluted_wines  proline  \n",
       "0                            3.92   1065.0  \n",
       "1                            3.40   1050.0  \n",
       "2                            3.17   1185.0  \n",
       "3                            3.45   1480.0  \n",
       "4                            2.93    735.0  \n",
       "..                            ...      ...  \n",
       "173                          1.74    740.0  \n",
       "174                          1.56    750.0  \n",
       "175                          1.56    835.0  \n",
       "176                          1.62    840.0  \n",
       "177                          1.60    560.0  \n",
       "\n",
       "[178 rows x 13 columns]"
      ]
     },
     "execution_count": 5,
     "metadata": {},
     "output_type": "execute_result"
    }
   ],
   "source": [
    "data "
   ]
  },
  {
   "cell_type": "code",
   "execution_count": 6,
   "metadata": {
    "id": "xrsPKm3w6Mi-"
   },
   "outputs": [
    {
     "data": {
      "text/plain": [
       "0      0\n",
       "1      0\n",
       "2      0\n",
       "3      0\n",
       "4      0\n",
       "      ..\n",
       "173    2\n",
       "174    2\n",
       "175    2\n",
       "176    2\n",
       "177    2\n",
       "Name: target, Length: 178, dtype: int64"
      ]
     },
     "execution_count": 6,
     "metadata": {},
     "output_type": "execute_result"
    }
   ],
   "source": [
    "target"
   ]
  },
  {
   "cell_type": "markdown",
   "metadata": {
    "id": "B3W5r6Se8kXW"
   },
   "source": [
    "Next, the data is split into training data and testing data.\n",
    "The training data is used to train the model while the testing data is used to evaluate the model on different data than it was trained for. You will learn later in the course why this is necessary."
   ]
  },
  {
   "cell_type": "code",
   "execution_count": 7,
   "metadata": {
    "id": "m1w8dDgw6MoO"
   },
   "outputs": [],
   "source": [
    "from sklearn.model_selection import train_test_split\n",
    "\n",
    "X_train, X_test, y_train, y_test = train_test_split(data, target, test_size=0.33, random_state=42)"
   ]
  },
  {
   "cell_type": "markdown",
   "metadata": {
    "id": "J_eeYvZc-f_n"
   },
   "source": [
    "\n",
    "In the following, we define functions to classify the data. We use a [Decision Tree Classifier](https://scikit-learn.org/stable/modules/tree.html#tree) and a [Support Vector Classifier](https://scikit-learn.org/stable/modules/svm.html#svm-classification). You will learn later in the course how these classifiers work."
   ]
  },
  {
   "cell_type": "code",
   "execution_count": 8,
   "metadata": {
    "id": "pvm_zBOe-e_X"
   },
   "outputs": [],
   "source": [
    "from sklearn.tree import DecisionTreeClassifier\n",
    "from sklearn.svm import SVC\n",
    "from sklearn.metrics import accuracy_score\n",
    "\n",
    "def run_classifier(clf, X_train, y_train, X_test, y_test):\n",
    "  clf.fit(X_train, y_train)\n",
    "  y_test_predicted = clf.predict(X_test)\n",
    "  return accuracy_score(y_test, y_test_predicted)\n",
    "\n",
    "\n",
    "def run_decision_tree(X_train, y_train, X_test, y_test):\n",
    "  clf = DecisionTreeClassifier(random_state=0)\n",
    "  accuracy = run_classifier(clf, X_train, y_train, X_test, y_test)\n",
    "  print(\"The accuracy of the Decision Tree classifier is\", accuracy)\n",
    "\n",
    "def run_svc(X_train, y_train, X_test, y_test):\n",
    "  clf = SVC(random_state=0)\n",
    "  accuracy = run_classifier(clf, X_train, y_train, X_test, y_test)\n",
    "  print(\"The accuracy of the Support Vector classifier is\", accuracy)"
   ]
  },
  {
   "cell_type": "markdown",
   "metadata": {
    "id": "s1MS2D8LAMpD"
   },
   "source": [
    "### Task 1a: Classify the data\n",
    "\n",
    "Classify the data by calling the two functions `run_decision_tree` and `run_svc`.\n",
    "Which classifier works better (i.e. achieves the higher accuracy)?"
   ]
  },
  {
   "cell_type": "code",
   "execution_count": 35,
   "metadata": {
    "id": "5ToW8fx4ANZ8"
   },
   "outputs": [
    {
     "name": "stdout",
     "output_type": "stream",
     "text": [
      "The accuracy of the Decision Tree classifier is 0.9661016949152542\n",
      "The accuracy of the Support Vector classifier is 0.711864406779661\n"
     ]
    }
   ],
   "source": [
    "from ast import operator\n",
    "\n",
    "\n",
    "decision_tree_data = run_decision_tree(X_train, y_train, X_test, y_test);\n",
    "svc_data = run_svc(X_train, y_train, X_test, y_test);\n"
   ]
  },
  {
   "cell_type": "markdown",
   "metadata": {
    "id": "BbM8OUZFBRGH"
   },
   "source": [
    "### Task 1b: Normalize the data with mean and standard deviation\n",
    "\n",
    "Normalize the training and testing data using the following formula:\n",
    "\n",
    "$$X_{normalized} = \\frac{X-\\mu_X}{\\sigma_X}$$\n",
    "\n",
    "Calculate the mean and standard deviation __on the training data__ only (also when you normalize the testing dataset).\n",
    "\n",
    "`Pandas` provides built-in functions to calculate the average and the standard deviation. For example, `X_train.mean()` returns the average value per feature in the training dataset while `X_train.std()` returns the standard deviation per feature."
   ]
  },
  {
   "cell_type": "code",
   "execution_count": 36,
   "metadata": {
    "id": "K0qkP9TqBRft"
   },
   "outputs": [
    {
     "name": "stdout",
     "output_type": "stream",
     "text": [
      "Mean of the train data is alcohol                          12.971008\n",
      "malic_acid                        2.413361\n",
      "ash                               2.372101\n",
      "alcalinity_of_ash                19.577311\n",
      "magnesium                       100.857143\n",
      "total_phenols                     2.278319\n",
      "flavanoids                        2.014538\n",
      "nonflavanoid_phenols              0.364034\n",
      "proanthocyanins                   1.588739\n",
      "color_intensity                   5.025126\n",
      "hue                               0.956353\n",
      "od280/od315_of_diluted_wines      2.593782\n",
      "proline                         741.588235\n",
      "dtype: float64\n",
      "\n",
      "\n",
      "Standard Deviation of the train data is alcohol                           0.851975\n",
      "malic_acid                        1.107837\n",
      "ash                               0.268258\n",
      "alcalinity_of_ash                 3.506735\n",
      "magnesium                        15.167587\n",
      "total_phenols                     0.662930\n",
      "flavanoids                        1.020149\n",
      "nonflavanoid_phenols              0.127201\n",
      "proanthocyanins                   0.578687\n",
      "color_intensity                   2.203922\n",
      "hue                               0.236996\n",
      "od280/od315_of_diluted_wines      0.734598\n",
      "proline                         307.645195\n",
      "dtype: float64\n"
     ]
    }
   ],
   "source": [
    "meanTrain = X_train.mean()\n",
    "standardDeviationTrain = X_train.std()\n",
    "\n",
    "print(f\"Mean of the train data is {meanTrain}\")\n",
    "print(\"\\n\")\n",
    "print(f\"Standard Deviation of the train data is {standardDeviationTrain}\")\n",
    "\n",
    "X_norm_STD_train = (X_train - meanTrain) / standardDeviationTrain\n",
    "X_normSTD_Test = (X_test - meanTrain) / standardDeviationTrain"
   ]
  },
  {
   "cell_type": "markdown",
   "metadata": {
    "id": "_fNuBgC6BSFt"
   },
   "source": [
    "Call the two classification functions again with the normalized data and report the changes in accuracy. What do you notice?"
   ]
  },
  {
   "cell_type": "code",
   "execution_count": 37,
   "metadata": {
    "id": "TFg6WbmgBShk"
   },
   "outputs": [
    {
     "name": "stdout",
     "output_type": "stream",
     "text": [
      "The accuracy of the Decision Tree classifier is 0.9661016949152542\n",
      "The accuracy of the Support Vector classifier is 0.9830508474576272\n"
     ]
    }
   ],
   "source": [
    "decision_tree_data = run_decision_tree(X_norm_STD_train, y_train, X_normSTD_Test, y_test);\n",
    "svc_data = run_svc(X_norm_STD_train, y_train, X_normSTD_Test, y_test);"
   ]
  },
  {
   "cell_type": "markdown",
   "metadata": {
    "id": "1_1EVF-TBS7v"
   },
   "source": [
    "### Task 1c: Repeat Task 1b with min-max Normalization\n",
    "\n",
    "Repeat the task 1b but use the following formula to normalize tha data:\n",
    "\n",
    "$$X_{normalized} = \\frac{X-X_{min}}{X_{max} - X_{min}}$$\n",
    "\n",
    "Again, calculate the mean and standard deviation __on the training data__ only (also when you normalize the testing dataset) and use the built-in function `X_train.min()` resp. `X_train.max()`."
   ]
  },
  {
   "cell_type": "code",
   "execution_count": 38,
   "metadata": {},
   "outputs": [],
   "source": [
    "X_norm_MinMax_train = (X_train - X_train.min()) / (X_train.max() - X_train.min())\n",
    "X_norm_MinMax_test = (X_test - X_train.min()) / (X_train.max() - X_train.min())"
   ]
  },
  {
   "cell_type": "markdown",
   "metadata": {
    "id": "NIy0ECbTJ7gq"
   },
   "source": [
    "Call the two classification functions again with the normalized data and report the changes in accuracy. What do you notice?"
   ]
  },
  {
   "cell_type": "code",
   "execution_count": 39,
   "metadata": {
    "id": "99uuR7ngJ7gr"
   },
   "outputs": [
    {
     "name": "stdout",
     "output_type": "stream",
     "text": [
      "The accuracy of the Decision Tree classifier is 0.9661016949152542\n",
      "The accuracy of the Support Vector classifier is 0.9830508474576272\n"
     ]
    }
   ],
   "source": [
    "decision_tree_data = run_decision_tree(X_norm_MinMax_train, y_train, X_norm_MinMax_test, y_test);\n",
    "svc_data = run_svc(X_norm_MinMax_train, y_train, X_norm_MinMax_test, y_test);"
   ]
  },
  {
   "cell_type": "markdown",
   "metadata": {
    "id": "c_i1aBh6KnWw"
   },
   "source": [
    "## 📢 **HAND-IN** 📢: Report on Moodle whether you solved this task."
   ]
  },
  {
   "cell_type": "markdown",
   "metadata": {
    "id": "m7I1RBjQK7Ly"
   },
   "source": [
    "---\n",
    "# TASK 2 (2 Points): \n",
    "\n",
    "In Task 1 we clearly saw that normalization improves the result for Support Vector Classifiers but not for Decision Trees. You will learn later in the course why Decision Trees don't need normalization.\n",
    "\n",
    "However, to better understand the influence of normalization, we will plot the data with and without normalization.\n"
   ]
  },
  {
   "cell_type": "code",
   "execution_count": 40,
   "metadata": {
    "id": "w9qp3e4nBTPK"
   },
   "outputs": [],
   "source": [
    "import seaborn as sns\n",
    "sns.set_theme(style=\"ticks\")"
   ]
  },
  {
   "cell_type": "markdown",
   "metadata": {
    "id": "tnF26SbCNCRS"
   },
   "source": [
    "### Task 2a: Plot the unnormalized data\n",
    "\n",
    "For simplicity, we only consider only the columns `alcohol` and `malic_acid` from the training dataset.\n",
    "\n",
    "Create a [Scatterplot](https://seaborn.pydata.org/generated/seaborn.scatterplot.html) from the data with  the attribute `alcohol` on the `x`-axis and `malic_acid` on the `y`-axis.\n",
    "\n",
    "Plot the un-normalized data `X_train` as well as the two noramlized versions from Exercise 1 in the same plot and describe what happens.\n",
    "\n",
    "__Hint:__ To visualize the data distribution in the same plot just call `sns.scatterplot` three times within the same code-cell."
   ]
  },
  {
   "cell_type": "code",
   "execution_count": 41,
   "metadata": {
    "id": "-lc07hbiOvYu"
   },
   "outputs": [
    {
     "data": {
      "text/plain": [
       "<AxesSubplot:xlabel='alcohol', ylabel='malic_acid'>"
      ]
     },
     "execution_count": 41,
     "metadata": {},
     "output_type": "execute_result"
    },
    {
     "data": {
      "image/png": "[encoded data removed]",
      "text/plain": [
       "<Figure size 432x288 with 1 Axes>"
      ]
     },
     "metadata": {},
     "output_type": "display_data"
    }
   ],
   "source": [
    "sns.scatterplot(data=X_train, x='alcohol', y='malic_acid')\n",
    "sns.scatterplot(data=X_norm_MinMax_train, x='alcohol', y='malic_acid')\n",
    "sns.scatterplot(data=X_norm_STD_train, x='alcohol', y='malic_acid')"
   ]
  },
  {
   "cell_type": "markdown",
   "metadata": {
    "id": "pJ5Ncd5cN-9z"
   },
   "source": [
    "We will now have a closer look at the data. Calculate for the un-normalized data as well as for the two normalized versions of data\n",
    "\n",
    "- The average value in the column `avg(alcohol)`\n",
    "- The standard deviation in the column `std(alcohol)`\n",
    "- The minimum value in the column `min(alcohol)`\n",
    "- The maxmium value in the column `max(alcohol)`\n",
    "- The range in the column by subtracting the minimum of the maximum in the column `max(alcohol) - min(alcohol)`\n",
    "\n",
    "Compare the properties of the un-normalized data with the normalized data. What do you notice?"
   ]
  },
  {
   "cell_type": "code",
   "execution_count": 59,
   "metadata": {
    "id": "J3D06pyKQjGq"
   },
   "outputs": [
    {
     "name": "stdout",
     "output_type": "stream",
     "text": [
      "Train Data: \n",
      " Mean: 12.971008403361344 \n",
      " Standard Deviation: 0.8519751676953168 \n",
      " Min: 11.03 \n",
      " Max: 14.83 \n",
      " Range: 3.8000000000000007\n",
      "\n",
      "Standard Deviation Data: \n",
      " Mean: 0.1048511542081119 \n",
      " Standard Deviation: 0.8537691950250113 \n",
      " Min: -1.832222889293871 \n",
      " Max: 1.6068444815615033 \n",
      " Range: 3.4390673708553745\n",
      "\n",
      "Min Max Data: \n",
      " Mean: 0.5342997323818022 \n",
      " Standard Deviation: 0.1914184613432972 \n",
      " Min: 0.10000000000000019 \n",
      " Max: 0.8710526315789473 \n",
      " Range: 0.7710526315789471\n",
      "\n"
     ]
    }
   ],
   "source": [
    "def calcStats(data):\n",
    "    mean = data.mean()\n",
    "    std = data.std()\n",
    "    min = data.min()\n",
    "    max = data.max()\n",
    "    range = max - min\n",
    "    return mean, std, min, max, range\n",
    "\n",
    "meanTrain, stdTrain, minTrain, maxTrain, rangeTrain = calcStats(X_train['alcohol'])\n",
    "meanSdt, stdStd, minStd, maxStd, rangeStd = calcStats(X_normSTD_Test['alcohol'])\n",
    "meanMinMax, stdMinMax, minMinMax, maxMinMax, rangeMinMax = calcStats(X_norm_MinMax_test['alcohol'])\n",
    "\n",
    "print(f\"Train Data: \\n Mean: {meanTrain} \\n Standard Deviation: {stdTrain} \\n Min: {minTrain} \\n Max: {maxTrain} \\n Range: {rangeTrain}\\n\")\n",
    "print(f\"Standard Deviation Data: \\n Mean: {meanSdt} \\n Standard Deviation: {stdStd} \\n Min: {minStd} \\n Max: {maxStd} \\n Range: {rangeStd}\\n\")\n",
    "print(f\"Min Max Data: \\n Mean: {meanMinMax} \\n Standard Deviation: {stdMinMax} \\n Min: {minMinMax} \\n Max: {maxMinMax} \\n Range: {rangeMinMax}\\n\")\n"
   ]
  },
  {
   "cell_type": "markdown",
   "metadata": {
    "id": "AH7H07ZcSniv"
   },
   "source": [
    "## 📢 **HAND-IN** 📢: Report on Moodle whether you solved this task.\n",
    "\n",
    "---"
   ]
  },
  {
   "cell_type": "markdown",
   "metadata": {
    "id": "UT3_BLJDl-0o"
   },
   "source": [
    "# TASK 3 (6 Points): Binning\n",
    "\n"
   ]
  },
  {
   "cell_type": "markdown",
   "metadata": {
    "id": "q7K4Cikz4aZE"
   },
   "source": [
    "The following list consists of the age of several people: \n",
    "```python\n",
    "[13, 15, 16, 18, 19, 20, 20, 21, 22, 22, 25, 25, 26, 26, 30, 33, 34, 35, 35, 35, 36, 37, 40, 42, 46, 53, 70]\n",
    "```"
   ]
  },
  {
   "cell_type": "markdown",
   "metadata": {
    "id": "lsHmNGlW4aZE"
   },
   "source": [
    "### Task 3a: Equal-Width Binning\n",
    "Apply binning to the dataset using 3 equal-width bins. Smooth the data using the mean of the bins.\n",
    "\n",
    "Tips:\n",
    "1. Calculate the size of the bins\n",
    "2. Assign each value to the corresponding bin\n",
    "3. Calculate the mean per bin\n",
    "4. Replace each value by the mean of its bin\n",
    "\n",
    "__Solve this exercise by hand without using Python__"
   ]
  },
  {
   "cell_type": "markdown",
   "metadata": {
    "id": "eukBUnVs4aZE"
   },
   "source": [
    "❗ TODO ❗"
   ]
  },
  {
   "cell_type": "code",
   "execution_count": 1,
   "metadata": {},
   "outputs": [
    {
     "name": "stdout",
     "output_type": "stream",
     "text": [
      "Bin1 Average: 21.2\n",
      "Bin2 Average: 37.3\n",
      "Bin3 Average: 61.5\n",
      "Bin1 has 15 elements: [21.2, 21.2, 21.2, 21.2, 21.2, 21.2, 21.2, 21.2, 21.2, 21.2, 21.2, 21.2, 21.2, 21.2, 21.2]\n",
      "Bin2 has 10 elements: [37.3, 37.3, 37.3, 37.3, 37.3, 37.3, 37.3, 37.3, 37.3, 37.3]\n",
      "Bin3 has 2 elements: [61.5, 61.5]\n"
     ]
    }
   ],
   "source": [
    "\"\"\"\n",
    "Number of Bins: N = 3 (given)\n",
    "Width = (Max - Min) / N = (70 - 13) / 3 = 19\n",
    "\n",
    "Bin1 = [0, Min + Width] = [0, 13 + 19] = [0, 32] = 13, 15, 16, 18, 19, 20, 20, 21, 22, 22, 25, 25, 26, 26, 30\n",
    "Bin2 = ]Bin1, Bin1 + Width] = ]32, 32 + 19] = ]32, 51] = 33, 34, 35, 35, 35, 36, 37, 40, 42, 46\n",
    "Bin3 = ]Bin2, Max] = ]51, 70] = 53, 70\n",
    "\"\"\"\n",
    "\n",
    "numbOfBins = 3\n",
    "widthOfBins = 19\n",
    "bin1 = [13, 15, 16, 18, 19, 20, 20, 21, 22, 22, 25, 25, 26, 26, 30]\n",
    "bin2 = [33, 34, 35, 35, 35, 36, 37, 40, 42, 46]\n",
    "bin3 = [53, 70]\n",
    "\n",
    "bin1Avg = sum(bin1) / len(bin1)\n",
    "print(f\"Bin1 Average: {bin1Avg}\")\n",
    "bin2Avg = sum(bin2) / len(bin2)\n",
    "print(f\"Bin2 Average: {bin2Avg}\")\n",
    "bin3Avg = sum(bin3) / len(bin3)\n",
    "print(f\"Bin3 Average: {bin3Avg}\")\n",
    "\n",
    "bin1 = [bin1Avg for element in range(len(bin1))]\n",
    "bin2 = [bin2Avg for element in range(len(bin2))]\n",
    "bin3 = [bin3Avg for element in range(len(bin3))]\n",
    "\n",
    "print(f\"Bin1 has {len(bin1)} elements: {bin1}\")\n",
    "print(f\"Bin2 has {len(bin2)} elements: {bin2}\")\n",
    "print(f\"Bin3 has {len(bin3)} elements: {bin3}\")\n",
    "\n"
   ]
  },
  {
   "cell_type": "markdown",
   "metadata": {
    "id": "8UL9OUG44aZF"
   },
   "source": [
    "### Task 3b: Equal-Depth Binning\n",
    "\n",
    "Apply binning to the dataset using 3 equal-depth bins. Smooth the data using the mean of the bins. Explain the steps of your approach and give the final result.\n",
    "\n",
    "Tips:\n",
    "1. Calculate the number of elements per bin\n",
    "2. Assign each value to the corresponding bin\n",
    "3. Calculate the mean per bin\n",
    "4. Replace each value by the mean of its bin\n",
    "\n",
    "__Please solve this exercise by hand without using Python__ "
   ]
  },
  {
   "cell_type": "markdown",
   "metadata": {
    "id": "Vhf3wkSm4aZF"
   },
   "source": [
    "\n",
    "❗ TODO ❗"
   ]
  },
  {
   "cell_type": "code",
   "execution_count": 2,
   "metadata": {},
   "outputs": [
    {
     "name": "stdout",
     "output_type": "stream",
     "text": [
      "Bin1 Average: 18.22222222222222\n",
      "Bin2 Average: 28.444444444444443\n",
      "Bin3 Average: 43.77777777777778\n",
      "Bin1 has 9 elements: [18.22222222222222, 18.22222222222222, 18.22222222222222, 18.22222222222222, 18.22222222222222, 18.22222222222222, 18.22222222222222, 18.22222222222222, 18.22222222222222]\n",
      "Bin2 has 9 elements: [28.444444444444443, 28.444444444444443, 28.444444444444443, 28.444444444444443, 28.444444444444443, 28.444444444444443, 28.444444444444443, 28.444444444444443, 28.444444444444443]\n",
      "Bin3 has 9 elements: [43.77777777777778, 43.77777777777778, 43.77777777777778, 43.77777777777778, 43.77777777777778, 43.77777777777778, 43.77777777777778, 43.77777777777778, 43.77777777777778]\n"
     ]
    }
   ],
   "source": [
    "\"\"\"\n",
    "Number of Bins: N = 3 (given)\n",
    "Width = Partition into N equal sized bins = size(bin) / N\n",
    "\n",
    "Bin1 = \n",
    "Bin2 = ]Bin1, Bin1 + Width] = ]32, 32 + 19] = ]32, 51] = 33, 34, 35, 35, 35, 36, 37, 40, 42, 46\n",
    "Bin3 = ]Bin2, Max] = ]51, 70] = 53, 70\n",
    "\"\"\"\n",
    "\n",
    "numbOfBins = 3\n",
    "widthOfBins = 19\n",
    "bin1 = [13, 15, 16, 18, 19, 20, 20, 21, 22]\n",
    "bin2 = [22, 25, 25, 26, 26, 30, 33, 34, 35]\n",
    "bin3 = [35, 35, 36, 37, 40, 42, 46, 53, 70]\n",
    "\n",
    "bin1Avg = sum(bin1) / len(bin1)\n",
    "print(f\"Bin1 Average: {bin1Avg}\")\n",
    "bin2Avg = sum(bin2) / len(bin2)\n",
    "print(f\"Bin2 Average: {bin2Avg}\")\n",
    "bin3Avg = sum(bin3) / len(bin3)\n",
    "print(f\"Bin3 Average: {bin3Avg}\")\n",
    "\n",
    "bin1 = [bin1Avg for element in range(len(bin1))]\n",
    "bin2 = [bin2Avg for element in range(len(bin2))]\n",
    "bin3 = [bin3Avg for element in range(len(bin3))]\n",
    "\n",
    "print(f\"Bin1 has {len(bin1)} elements: {bin1}\")\n",
    "print(f\"Bin2 has {len(bin2)} elements: {bin2}\")\n",
    "print(f\"Bin3 has {len(bin3)} elements: {bin3}\")\n",
    "\n"
   ]
  },
  {
   "cell_type": "markdown",
   "metadata": {
    "id": "ex21HuPTl_Qx"
   },
   "source": [
    "## 📢 **HAND-IN** 📢: Describe on Moodle the results of Exercise 3: \n",
    "\n",
    "* Copy the results of Exercise 3a and 3b to Moodle\n",
    "* Describe the differences between task 3a and task 3b\n",
    "* Describe situations when binning should be used and give a concrete example. Are there also circumstances in which binning should not be applied?"
   ]
  }
 ],
 "metadata": {
  "colab": {
   "collapsed_sections": [],
   "private_outputs": true,
   "provenance": []
  },
  "kernelspec": {
   "display_name": "Python 3.9.12 ('base')",
   "language": "python",
   "name": "python3"
  },
  "language_info": {
   "codemirror_mode": {
    "name": "ipython",
    "version": 3
   },
   "file_extension": ".py",
   "mimetype": "text/x-python",
   "name": "python",
   "nbconvert_exporter": "python",
   "pygments_lexer": "ipython3",
   "version": "3.9.12"
  },
  "vscode": {
   "interpreter": {
    "hash": "d68f48d6f9ae3356d22f9fb3297e98cd159a2dc6674c7ad75bbc3164fe99f484"
   }
  }
 },
 "nbformat": 4,
 "nbformat_minor": 0
}
