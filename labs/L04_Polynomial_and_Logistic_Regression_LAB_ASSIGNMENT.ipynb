{
 "cells": [
  {
   "cell_type": "code",
   "execution_count": 17,
   "metadata": {
    "id": "pAJRKdv9QA4C"
   },
   "outputs": [],
   "source": [
    "import numpy as np\n",
    "import pandas as pd\n",
    "from matplotlib import pyplot as plt"
   ]
  },
  {
   "cell_type": "code",
   "execution_count": 18,
   "metadata": {
    "id": "D1m4qcrpXdTt"
   },
   "outputs": [],
   "source": [
    "RANDOM_SEED = 0x0"
   ]
  },
  {
   "cell_type": "markdown",
   "metadata": {
    "id": "Ia9s_Q-KXf0T"
   },
   "source": [
    "# TASK 1: Polynomial Regression (4 Points): "
   ]
  },
  {
   "cell_type": "markdown",
   "metadata": {
    "id": "VV0Z3OdeXpha"
   },
   "source": [
    "Let's create and explore the data."
   ]
  },
  {
   "cell_type": "code",
   "execution_count": 19,
   "metadata": {
    "id": "nb5WsezldFla"
   },
   "outputs": [],
   "source": [
    "# set the random seed to an integer, so that everyone has the same data to work with\n",
    "np.random.seed(seed=RANDOM_SEED)\n",
    "# create predictor variable, that have standard normal distribution and reshape it in order to use for the model training\n",
    "x = np.random.normal(0, 1, 100).reshape(-1, 1)\n",
    "# create target variable\n",
    "y = 3*x**3 + 2*x**2 + x + np.random.normal(0, 10, 100).reshape(-1, 1)"
   ]
  },
  {
   "cell_type": "markdown",
   "metadata": {
    "id": "E65IxT1Bwpmk"
   },
   "source": [
    "Visualise the data"
   ]
  },
  {
   "cell_type": "code",
   "execution_count": 20,
   "metadata": {
    "colab": {
     "base_uri": "https://localhost:8080/",
     "height": 271
    },
    "id": "nCZgTYP3fZe7",
    "outputId": "1b726e32-d8a7-454c-d597-62ec9e052645"
   },
   "outputs": [
    {
     "data": {
      "image/png": "[encoded data removed]",
      "text/plain": [
       "<Figure size 432x288 with 1 Axes>"
      ]
     },
     "metadata": {},
     "output_type": "display_data"
    }
   ],
   "source": [
    "plt.scatter(x, y)\n",
    "plt.show()"
   ]
  },
  {
   "cell_type": "markdown",
   "metadata": {
    "id": "Cx8aSpUnJCI7"
   },
   "source": [
    "## Task 1a\n",
    "Apply Linear Regression on the data\n"
   ]
  },
  {
   "cell_type": "markdown",
   "metadata": {
    "id": "nvRxguOTJnjS"
   },
   "source": [
    "1. Split the data in the train and test set (80/20), set `random_state` to `RANDOM_SEED`."
   ]
  },
  {
   "cell_type": "code",
   "execution_count": 21,
   "metadata": {
    "id": "ti7myWk7KS8Z"
   },
   "outputs": [],
   "source": [
    "from sklearn.model_selection import train_test_split\n",
    "X_train, X_test, y_train, y_test = train_test_split(x, y, test_size=0.2, random_state=RANDOM_SEED)"
   ]
  },
  {
   "cell_type": "markdown",
   "metadata": {
    "id": "RFSaakYLJuK7"
   },
   "source": [
    "2. Apply Linear Regression on the data and predict `y` values for training as well test data "
   ]
  },
  {
   "cell_type": "code",
   "execution_count": 22,
   "metadata": {
    "id": "Ez6t4Q4P82Qo"
   },
   "outputs": [
    {
     "name": "stdout",
     "output_type": "stream",
     "text": [
      "y = [[  0.41254784]\n",
      " [ 10.65916345]\n",
      " [  8.85006269]\n",
      " [  3.87239713]\n",
      " [ -6.19443946]\n",
      " [  8.8310806 ]\n",
      " [ 13.51061337]\n",
      " [-11.16857453]\n",
      " [ -0.25614441]\n",
      " [  6.38870661]\n",
      " [-10.6784677 ]\n",
      " [  1.88228549]\n",
      " [ -2.8188387 ]\n",
      " [  1.09910806]\n",
      " [ -1.37009253]\n",
      " [  1.40001119]\n",
      " [  7.8163604 ]\n",
      " [ 20.52553086]\n",
      " [-17.91485207]\n",
      " [ -0.93474737]]\n",
      "y = [[ 24.8105505 ]\n",
      " [ -5.20409199]\n",
      " [ 27.96106747]\n",
      " [  5.02690375]\n",
      " [ -1.1310202 ]\n",
      " [-13.89980582]\n",
      " [ 13.94364999]\n",
      " [  7.99160103]\n",
      " [  8.683055  ]\n",
      " [ -5.83014814]\n",
      " [ -3.67632257]\n",
      " [ -9.02665362]\n",
      " [ -0.75205446]\n",
      " [ -6.22653091]\n",
      " [  7.82776611]\n",
      " [  1.59350968]\n",
      " [  7.02596155]\n",
      " [  4.34856133]\n",
      " [-15.12024136]\n",
      " [  7.99542656]\n",
      " [  7.97170485]\n",
      " [ -0.27832457]\n",
      " [-14.90291777]\n",
      " [-11.79437851]\n",
      " [ 23.90685605]\n",
      " [  7.24973797]\n",
      " [  1.39831761]\n",
      " [ -7.76047681]\n",
      " [ -0.57993093]\n",
      " [ -6.98646928]\n",
      " [ 16.9012908 ]\n",
      " [ -0.31294451]\n",
      " [ 22.78284269]\n",
      " [ -0.15190969]\n",
      " [ 20.27134592]\n",
      " [ -6.09804415]\n",
      " [ 19.41881787]\n",
      " [  5.32408382]\n",
      " [ -4.43327521]\n",
      " [ -1.92083638]\n",
      " [  5.19045409]\n",
      " [  7.73285484]\n",
      " [-14.07682012]\n",
      " [  6.91089705]\n",
      " [  4.23614571]\n",
      " [ 24.21451687]\n",
      " [ -6.01463481]\n",
      " [ 19.7878074 ]\n",
      " [  8.44632781]\n",
      " [ 15.07697712]\n",
      " [ -5.64878018]\n",
      " [ 19.58263539]\n",
      " [  1.31598115]\n",
      " [ 23.01977556]\n",
      " [  5.00441582]\n",
      " [  4.19031945]\n",
      " [-24.097819  ]\n",
      " [  7.49616115]\n",
      " [ 15.99947525]\n",
      " [ -2.65976186]\n",
      " [-12.16737571]\n",
      " [ 16.68339373]\n",
      " [ 13.40869299]\n",
      " [ -9.97843491]\n",
      " [  0.34338285]\n",
      " [ -0.73689457]\n",
      " [ -3.26216139]\n",
      " [ 11.89066528]\n",
      " [ -8.00155266]\n",
      " [ 11.54373697]\n",
      " [  1.67233851]\n",
      " [ 16.98648974]\n",
      " [ 10.72415365]\n",
      " [-13.05652509]\n",
      " [  8.08509145]\n",
      " [  3.74024588]\n",
      " [  8.65177781]\n",
      " [  5.55297013]\n",
      " [ 12.06933164]\n",
      " [ -1.90831592]]\n"
     ]
    }
   ],
   "source": [
    "from sklearn.linear_model import LinearRegression\n",
    "\n",
    "linear_regression_model_train = LinearRegression().fit(X_train, y_train)\n",
    "linear_regression_model_test = LinearRegression().fit(X_test, y_test)\n",
    "\n",
    "y_predict_test = linear_regression_model_test.predict(X_test)\n",
    "y_predict_train = linear_regression_model_train.predict(X_train)\n",
    "\n",
    "print(f\"y = {y_predict_test}\")\n",
    "print(f\"y = {y_predict_train}\")\n",
    "\n"
   ]
  },
  {
   "cell_type": "markdown",
   "metadata": {
    "id": "P1k6VBGk8yI6"
   },
   "source": [
    "3. Calculate MSE for training as well as for test data."
   ]
  },
  {
   "cell_type": "code",
   "execution_count": 23,
   "metadata": {
    "id": "qJGjXK8aKD8q"
   },
   "outputs": [
    {
     "name": "stdout",
     "output_type": "stream",
     "text": [
      "MSE of training data: 131.3354142667106\n",
      "MSE of test data: 116.9150848321741\n"
     ]
    }
   ],
   "source": [
    "from sklearn.metrics import mean_squared_error\n",
    "\n",
    "mse_train = mean_squared_error(y_train, y_predict_train)\n",
    "mse_test = mean_squared_error(y_test, y_predict_test)\n",
    "\n",
    "print(f\"MSE of training data: {mse_train}\")\n",
    "print(f\"MSE of test data: {mse_test}\")"
   ]
  },
  {
   "cell_type": "markdown",
   "metadata": {
    "id": "T0VOmhngKEQL"
   },
   "source": [
    "4. Visualize the model. Plot all the data as well as Linear Regression predictions for training and test data."
   ]
  },
  {
   "cell_type": "code",
   "execution_count": 24,
   "metadata": {
    "id": "yLwMEWirLLBA"
   },
   "outputs": [
    {
     "data": {
      "image/png": "[encoded data removed]",
      "text/plain": [
       "<Figure size 432x288 with 1 Axes>"
      ]
     },
     "metadata": {},
     "output_type": "display_data"
    },
    {
     "data": {
      "image/png": "[encoded data removed]",
      "text/plain": [
       "<Figure size 432x288 with 1 Axes>"
      ]
     },
     "metadata": {},
     "output_type": "display_data"
    }
   ],
   "source": [
    "plt.figure(1)\n",
    "plt.title(\"Linear Regression for Training Data\")\n",
    "plt.scatter(X_train, y_train)\n",
    "plt.plot(X_train, y_predict_train, color='red')\n",
    "plt.grid()\n",
    "plt.show()\n",
    "\n",
    "plt.figure(2)\n",
    "plt.title(\"Linear Regression for Test Data\")\n",
    "plt.scatter(X_test, y_test)\n",
    "plt.plot(X_test, y_predict_test, color='red')\n",
    "plt.grid()\n",
    "plt.show()"
   ]
  },
  {
   "cell_type": "markdown",
   "metadata": {
    "id": "zwsmpB3oMJZf"
   },
   "source": [
    "## Task 1b\n",
    "Investigate how well polynomial regression with polynomial degrees = 2 can solve the task. In order to do so, follow these steps:\n",
    "1. Transform the data accordingly to describe polynomial distribution of degree=2\n",
    "2. Train a Linear Regression model on polynomial data\n",
    "3. Make predictions for training data\n",
    "4. Make predictions for test data\n",
    "5. Calculate MSE for training as well as test data"
   ]
  },
  {
   "cell_type": "code",
   "execution_count": 25,
   "metadata": {
    "id": "oxni0o041MYH"
   },
   "outputs": [
    {
     "name": "stdout",
     "output_type": "stream",
     "text": [
      "MSE of training data: 129.64199704420648\n",
      "MSE of training data: 106.25833697429216\n"
     ]
    }
   ],
   "source": [
    "from sklearn.preprocessing import PolynomialFeatures\n",
    "\n",
    "poly = PolynomialFeatures(degree=2)\n",
    "\n",
    "transformed_train = poly.fit_transform(X_train)\n",
    "lr_polynomial_data_train = LinearRegression().fit(transformed_train, y_train)\n",
    "predict_polynomial_data_train = lr_polynomial_data_train.predict(transformed_train)\n",
    "mse_train_poly = mean_squared_error(y_train, predict_polynomial_data_train)\n",
    "\n",
    "\n",
    "transformed_test = poly.fit_transform(X_test)\n",
    "lr_polynomial_data_test = LinearRegression().fit(transformed_test, y_test)\n",
    "predict_polynomial_data_test = lr_polynomial_data_test.predict(transformed_test)\n",
    "mse_test_poly = mean_squared_error(y_test, predict_polynomial_data_test)\n",
    "\n",
    "\n",
    "\n",
    "print(f\"MSE of training data: {mse_train_poly}\")\n",
    "print(f\"MSE of training data: {mse_test_poly}\")"
   ]
  },
  {
   "cell_type": "markdown",
   "metadata": {
    "id": "nhbIv-toOFoV"
   },
   "source": [
    "6. Did it perform better than Linear Regression? Visualize the results."
   ]
  },
  {
   "cell_type": "code",
   "execution_count": 26,
   "metadata": {
    "id": "yFNrIwDuOUXo"
   },
   "outputs": [
    {
     "data": {
      "image/png": "[encoded data removed]",
      "text/plain": [
       "<Figure size 432x288 with 1 Axes>"
      ]
     },
     "metadata": {},
     "output_type": "display_data"
    }
   ],
   "source": [
    "plt.figure(3)\n",
    "plt.title(\"Polynomial Regression for Training Data\")\n",
    "plt.scatter(X_train, y_train)\n",
    "plt.grid()\n",
    "plt.show()\n",
    "\n",
    "# plt.figure(4)\n",
    "# plt.title(\"Polynomial Regression for Test Data\")\n",
    "# plt.scatter(transformed_test, y_test)\n",
    "# plt.plot(X_test, predict_polynomial_data_test, color='red')\n",
    "# plt.grid()\n",
    "# plt.show()"
   ]
  },
  {
   "cell_type": "markdown",
   "metadata": {
    "id": "lR_v9mTWOVNj"
   },
   "source": [
    "## Task 1c\n",
    "Investigate the influence of polynomial degrees on the results. Consider degrees in range(0, 11). Plot MSE (on training as well as test data) depending on the number of the polynomial degrees. "
   ]
  },
  {
   "cell_type": "code",
   "execution_count": 27,
   "metadata": {
    "id": "4YFTQqWZO_Jx"
   },
   "outputs": [
    {
     "data": {
      "text/plain": [
       "Ellipsis"
      ]
     },
     "execution_count": 27,
     "metadata": {},
     "output_type": "execute_result"
    }
   ],
   "source": [
    "..."
   ]
  },
  {
   "cell_type": "markdown",
   "metadata": {
    "id": "qY6QK6OhGBVp"
   },
   "source": [
    "## 📢 **HAND-IN** 📢: Answer following questions in Moodle:\n",
    "\n",
    "What is the optimal value of the polynomial degrees? Do the values of MSE training and MSE test behave similarly? What event takes place in the models with polynomial degrees >= 8? "
   ]
  },
  {
   "cell_type": "markdown",
   "metadata": {
    "id": "lhOvMhs_V4cY"
   },
   "source": [
    "# Task 2: Polynomial Data Transformation (1 Point)\n",
    "\n",
    "As we have seen in the lecture, Polynomial Regression is nothing other than a generalization of Linear Regression. Every polynomial Regression can be expressed as a Multivariate Linear Regression. Only transformation of the initial data has to be done.\n",
    "\n",
    " $h_\\theta(a) = \\theta_0 + \\theta_1a_1 +\\theta_2a_2 $, where\n",
    " $ a_0 = v^0, a_1 = v^1, a_2 = v^2 $\n",
    "\n",
    "In Task 1 `sklearn.preprocessing.PolynomialFeatures` transformed the X data for us. But in order to understand what exactly it is done to the data, in this task we transform an initial data array $v$ to \n",
    "the form $(a_1...a_n)$ that can be used to build a Polynomial Regression model with polynomial degrees=2 by hand (without using `sklearn.preprocessing.PolynomialFeatures`). Please transform the array $v$ and insert your answer in Moodle."
   ]
  },
  {
   "cell_type": "markdown",
   "metadata": {
    "id": "Zz4WDaq436-y"
   },
   "source": [
    "\\begin{align}\n",
    "v=\n",
    "\\begin{bmatrix}\n",
    "3 \\\\\n",
    "2 \\\\\n",
    "0 \\\\\n",
    "\\end{bmatrix}\n",
    "\\end{align}"
   ]
  },
  {
   "cell_type": "markdown",
   "metadata": {
    "id": "d7ATjnj5FxdQ"
   },
   "source": [
    "\\begin{align}\n",
    "v=\n",
    "\\begin{bmatrix}\n",
    "3 & 2 & 0 \\\\\n",
    "\\end{bmatrix}\n",
    "\\end{align}"
   ]
  },
  {
   "cell_type": "markdown",
   "metadata": {
    "id": "DUDUkf1uJFWf"
   },
   "source": [
    "## 📢 **HAND-IN** 📢: Write your answer in Moodle"
   ]
  },
  {
   "cell_type": "markdown",
   "metadata": {
    "id": "XO800wc-WhyJ"
   },
   "source": [
    "# Task 3: Logistic Regression (6 Points)"
   ]
  },
  {
   "cell_type": "code",
   "execution_count": 28,
   "metadata": {
    "id": "prescribed-lawyer"
   },
   "outputs": [],
   "source": [
    "import pandas as pd\n",
    "import numpy as np\n",
    "import matplotlib.pyplot as plt\n",
    "from random import randrange\n",
    "import seaborn as sns\n",
    "sns.set()"
   ]
  },
  {
   "cell_type": "markdown",
   "metadata": {
    "id": "_lLze_K1g0ZA"
   },
   "source": [
    "## Task 3a. Data Exploration and Preprocessing\n",
    "\n",
    "We are using the Fashion MNIST Dataset from Zalando. \n",
    "Firstly, we load and explore the dataset.\n",
    "\n"
   ]
  },
  {
   "cell_type": "code",
   "execution_count": 29,
   "metadata": {
    "colab": {
     "base_uri": "https://localhost:8080/"
    },
    "executionInfo": {
     "elapsed": 542,
     "status": "ok",
     "timestamp": 1665431839953,
     "user": {
      "displayName": "Katsiaryna Mlynchyk",
      "userId": "03180504976276903023"
     },
     "user_tz": -120
    },
    "id": "wR0ijS0VZ6dk",
    "outputId": "94803c36-3614-485f-e2a4-0fd970a1452f"
   },
   "outputs": [
    {
     "name": "stdout",
     "output_type": "stream",
     "text": [
      "(60000, 28, 28)\n",
      "(60000,)\n",
      "uint8\n",
      "uint8\n"
     ]
    }
   ],
   "source": [
    "from keras.datasets import fashion_mnist\n",
    "(X_train, y_train), (X_test, y_test) = fashion_mnist.load_data()\n",
    "print(X_train.shape)\n",
    "print(y_train.shape)\n",
    "print(X_train.dtype)\n",
    "print(y_train.dtype)"
   ]
  },
  {
   "cell_type": "code",
   "execution_count": 30,
   "metadata": {
    "id": "1fd78190-5445-4c53-9b7f-4a0f7aeaf87c"
   },
   "outputs": [],
   "source": [
    "label_names = ['T-shirt/top', 'Trouser', 'Pullover', 'Dress', 'Coat', \n",
    "               'Sandal', 'Shirt', 'Sneaker', 'Bag', 'Ankle boot']"
   ]
  },
  {
   "cell_type": "markdown",
   "metadata": {
    "id": "_9FX76IifOik"
   },
   "source": [
    "In following task we will only use training part of the dataset."
   ]
  },
  {
   "cell_type": "markdown",
   "metadata": {
    "id": "fDgGTbTMHxwN"
   },
   "source": [
    "#### Prepare data \n",
    "1. assign following datatypes to the arrays:\n",
    "   - X_train -> 'float32'\n",
    "   - y_train -> 'int64'\n",
    "2. reshape X_train to 2-dimensional array. \n",
    "Note: \n",
    "   - it should have the same amount of samples/rows.\n",
    "   - the pictures are in greyscale, it means they have only one value of color per pixel.\n",
    "3. split the training data into (X_train, y_train) and (X_valid, y_valid), set the size of the validation dataset to 20% of the data and set random state = 42."
   ]
  },
  {
   "cell_type": "code",
   "execution_count": 31,
   "metadata": {
    "id": "d3b1f9ef-da3e-445e-b8b0-8adfa6871f14"
   },
   "outputs": [
    {
     "ename": "ValueError",
     "evalue": "cannot reshape array of size 47040000 into shape (2,)",
     "output_type": "error",
     "traceback": [
      "\u001b[0;31m---------------------------------------------------------------------------\u001b[0m",
      "\u001b[0;31mValueError\u001b[0m                                Traceback (most recent call last)",
      "\u001b[1;32m/Users/armandoshala/PycharmProjects/mldm_hs22/labs/L04_Polynomial_and_Logistic_Regression_LAB_ASSIGNMENT.ipynb Cell 35\u001b[0m in \u001b[0;36m<cell line: 3>\u001b[0;34m()\u001b[0m\n\u001b[1;32m      <a href='vscode-notebook-cell:/Users/armandoshala/PycharmProjects/mldm_hs22/labs/L04_Polynomial_and_Logistic_Regression_LAB_ASSIGNMENT.ipynb#X46sZmlsZQ%3D%3D?line=0'>1</a>\u001b[0m X_train \u001b[39m=\u001b[39m X_train\u001b[39m.\u001b[39mastype(\u001b[39m'\u001b[39m\u001b[39mfloat32\u001b[39m\u001b[39m'\u001b[39m)\n\u001b[1;32m      <a href='vscode-notebook-cell:/Users/armandoshala/PycharmProjects/mldm_hs22/labs/L04_Polynomial_and_Logistic_Regression_LAB_ASSIGNMENT.ipynb#X46sZmlsZQ%3D%3D?line=1'>2</a>\u001b[0m y_train \u001b[39m=\u001b[39m y_train\u001b[39m.\u001b[39mastype(\u001b[39m'\u001b[39m\u001b[39mint64\u001b[39m\u001b[39m'\u001b[39m)\n\u001b[0;32m----> <a href='vscode-notebook-cell:/Users/armandoshala/PycharmProjects/mldm_hs22/labs/L04_Polynomial_and_Logistic_Regression_LAB_ASSIGNMENT.ipynb#X46sZmlsZQ%3D%3D?line=2'>3</a>\u001b[0m np\u001b[39m.\u001b[39;49mreshape(X_train, \u001b[39m2\u001b[39;49m)\n\u001b[1;32m      <a href='vscode-notebook-cell:/Users/armandoshala/PycharmProjects/mldm_hs22/labs/L04_Polynomial_and_Logistic_Regression_LAB_ASSIGNMENT.ipynb#X46sZmlsZQ%3D%3D?line=3'>4</a>\u001b[0m X_train, y_train, X_valid, y_valid \u001b[39m=\u001b[39m train_test_split(X, y, test_size\u001b[39m=\u001b[39m\u001b[39m0.2\u001b[39m, random_state\u001b[39m=\u001b[39mRANDOM_SEED)\n",
      "File \u001b[0;32m<__array_function__ internals>:5\u001b[0m, in \u001b[0;36mreshape\u001b[0;34m(*args, **kwargs)\u001b[0m\n",
      "File \u001b[0;32m~/opt/anaconda3/lib/python3.9/site-packages/numpy/core/fromnumeric.py:298\u001b[0m, in \u001b[0;36mreshape\u001b[0;34m(a, newshape, order)\u001b[0m\n\u001b[1;32m    198\u001b[0m \u001b[39m@array_function_dispatch\u001b[39m(_reshape_dispatcher)\n\u001b[1;32m    199\u001b[0m \u001b[39mdef\u001b[39;00m \u001b[39mreshape\u001b[39m(a, newshape, order\u001b[39m=\u001b[39m\u001b[39m'\u001b[39m\u001b[39mC\u001b[39m\u001b[39m'\u001b[39m):\n\u001b[1;32m    200\u001b[0m     \u001b[39m\"\"\"\u001b[39;00m\n\u001b[1;32m    201\u001b[0m \u001b[39m    Gives a new shape to an array without changing its data.\u001b[39;00m\n\u001b[1;32m    202\u001b[0m \n\u001b[0;32m   (...)\u001b[0m\n\u001b[1;32m    296\u001b[0m \u001b[39m           [5, 6]])\u001b[39;00m\n\u001b[1;32m    297\u001b[0m \u001b[39m    \"\"\"\u001b[39;00m\n\u001b[0;32m--> 298\u001b[0m     \u001b[39mreturn\u001b[39;00m _wrapfunc(a, \u001b[39m'\u001b[39;49m\u001b[39mreshape\u001b[39;49m\u001b[39m'\u001b[39;49m, newshape, order\u001b[39m=\u001b[39;49morder)\n",
      "File \u001b[0;32m~/opt/anaconda3/lib/python3.9/site-packages/numpy/core/fromnumeric.py:57\u001b[0m, in \u001b[0;36m_wrapfunc\u001b[0;34m(obj, method, *args, **kwds)\u001b[0m\n\u001b[1;32m     54\u001b[0m     \u001b[39mreturn\u001b[39;00m _wrapit(obj, method, \u001b[39m*\u001b[39margs, \u001b[39m*\u001b[39m\u001b[39m*\u001b[39mkwds)\n\u001b[1;32m     56\u001b[0m \u001b[39mtry\u001b[39;00m:\n\u001b[0;32m---> 57\u001b[0m     \u001b[39mreturn\u001b[39;00m bound(\u001b[39m*\u001b[39;49margs, \u001b[39m*\u001b[39;49m\u001b[39m*\u001b[39;49mkwds)\n\u001b[1;32m     58\u001b[0m \u001b[39mexcept\u001b[39;00m \u001b[39mTypeError\u001b[39;00m:\n\u001b[1;32m     59\u001b[0m     \u001b[39m# A TypeError occurs if the object does have such a method in its\u001b[39;00m\n\u001b[1;32m     60\u001b[0m     \u001b[39m# class, but its signature is not identical to that of NumPy's. This\u001b[39;00m\n\u001b[0;32m   (...)\u001b[0m\n\u001b[1;32m     64\u001b[0m     \u001b[39m# Call _wrapit from within the except clause to ensure a potential\u001b[39;00m\n\u001b[1;32m     65\u001b[0m     \u001b[39m# exception has a traceback chain.\u001b[39;00m\n\u001b[1;32m     66\u001b[0m     \u001b[39mreturn\u001b[39;00m _wrapit(obj, method, \u001b[39m*\u001b[39margs, \u001b[39m*\u001b[39m\u001b[39m*\u001b[39mkwds)\n",
      "\u001b[0;31mValueError\u001b[0m: cannot reshape array of size 47040000 into shape (2,)"
     ]
    }
   ],
   "source": [
    "X_train = X_train.astype('float32')\n",
    "y_train = y_train.astype('int64')\n",
    "np.reshape(X_train, 2)\n",
    "X_train, y_train, X_valid, y_valid = train_test_split(X, y, test_size=0.2, random_state=RANDOM_SEED)"
   ]
  },
  {
   "cell_type": "markdown",
   "metadata": {
    "id": "26YTJ4uQYE46"
   },
   "source": [
    "#### Visualize some data \n",
    "Plot 25 images (hint: use ``imshow`` and ``subplots`` from matplotlib library), plot the label as title (e.g. shorts)."
   ]
  },
  {
   "cell_type": "code",
   "execution_count": 32,
   "metadata": {
    "id": "1ee386c1-8502-4422-8a1c-8c852e67ac40"
   },
   "outputs": [
    {
     "data": {
      "image/png": "[encoded data removed]",
      "text/plain": [
       "<Figure size 720x720 with 25 Axes>"
      ]
     },
     "metadata": {},
     "output_type": "display_data"
    }
   ],
   "source": [
    "plt.figure(figsize=(10,10))\n",
    "for i in range(25):\n",
    "    plt.subplot(5,5,i+1)\n",
    "    plt.xticks([])\n",
    "    plt.yticks([])\n",
    "    plt.grid(False)\n",
    "    plt.imshow(X_train[i], cmap=plt.cm.binary)\n",
    "    plt.xlabel(label_names[y_train[i]])\n",
    "plt.show()\n"
   ]
  },
  {
   "cell_type": "markdown",
   "metadata": {
    "id": "b61c7d24-8e54-4827-a15f-b0ae553d5743"
   },
   "source": [
    "#### Normalize the Images\n",
    "With mean and standard deviation"
   ]
  },
  {
   "cell_type": "code",
   "execution_count": 34,
   "metadata": {
    "id": "cdf0d1e7-0466-4a49-a349-6b27a9aa3662"
   },
   "outputs": [
    {
     "ename": "ValueError",
     "evalue": "Found array with dim 3. StandardScaler expected <= 2.",
     "output_type": "error",
     "traceback": [
      "\u001b[0;31m---------------------------------------------------------------------------\u001b[0m",
      "\u001b[0;31mValueError\u001b[0m                                Traceback (most recent call last)",
      "\u001b[1;32m/Users/armandoshala/PycharmProjects/mldm_hs22/labs/L04_Polynomial_and_Logistic_Regression_LAB_ASSIGNMENT.ipynb Cell 39\u001b[0m in \u001b[0;36m<cell line: 3>\u001b[0;34m()\u001b[0m\n\u001b[1;32m      <a href='vscode-notebook-cell:/Users/armandoshala/PycharmProjects/mldm_hs22/labs/L04_Polynomial_and_Logistic_Regression_LAB_ASSIGNMENT.ipynb#X53sZmlsZQ%3D%3D?line=0'>1</a>\u001b[0m \u001b[39mfrom\u001b[39;00m \u001b[39msklearn\u001b[39;00m\u001b[39m.\u001b[39;00m\u001b[39mpreprocessing\u001b[39;00m \u001b[39mimport\u001b[39;00m StandardScaler\n\u001b[1;32m      <a href='vscode-notebook-cell:/Users/armandoshala/PycharmProjects/mldm_hs22/labs/L04_Polynomial_and_Logistic_Regression_LAB_ASSIGNMENT.ipynb#X53sZmlsZQ%3D%3D?line=1'>2</a>\u001b[0m scaler \u001b[39m=\u001b[39m StandardScaler()\n\u001b[0;32m----> <a href='vscode-notebook-cell:/Users/armandoshala/PycharmProjects/mldm_hs22/labs/L04_Polynomial_and_Logistic_Regression_LAB_ASSIGNMENT.ipynb#X53sZmlsZQ%3D%3D?line=2'>3</a>\u001b[0m X_train \u001b[39m=\u001b[39m scaler\u001b[39m.\u001b[39;49mfit_transform(X_train)\n",
      "File \u001b[0;32m~/opt/anaconda3/lib/python3.9/site-packages/sklearn/base.py:852\u001b[0m, in \u001b[0;36mTransformerMixin.fit_transform\u001b[0;34m(self, X, y, **fit_params)\u001b[0m\n\u001b[1;32m    848\u001b[0m \u001b[39m# non-optimized default implementation; override when a better\u001b[39;00m\n\u001b[1;32m    849\u001b[0m \u001b[39m# method is possible for a given clustering algorithm\u001b[39;00m\n\u001b[1;32m    850\u001b[0m \u001b[39mif\u001b[39;00m y \u001b[39mis\u001b[39;00m \u001b[39mNone\u001b[39;00m:\n\u001b[1;32m    851\u001b[0m     \u001b[39m# fit method of arity 1 (unsupervised transformation)\u001b[39;00m\n\u001b[0;32m--> 852\u001b[0m     \u001b[39mreturn\u001b[39;00m \u001b[39mself\u001b[39;49m\u001b[39m.\u001b[39;49mfit(X, \u001b[39m*\u001b[39;49m\u001b[39m*\u001b[39;49mfit_params)\u001b[39m.\u001b[39mtransform(X)\n\u001b[1;32m    853\u001b[0m \u001b[39melse\u001b[39;00m:\n\u001b[1;32m    854\u001b[0m     \u001b[39m# fit method of arity 2 (supervised transformation)\u001b[39;00m\n\u001b[1;32m    855\u001b[0m     \u001b[39mreturn\u001b[39;00m \u001b[39mself\u001b[39m\u001b[39m.\u001b[39mfit(X, y, \u001b[39m*\u001b[39m\u001b[39m*\u001b[39mfit_params)\u001b[39m.\u001b[39mtransform(X)\n",
      "File \u001b[0;32m~/opt/anaconda3/lib/python3.9/site-packages/sklearn/preprocessing/_data.py:806\u001b[0m, in \u001b[0;36mStandardScaler.fit\u001b[0;34m(self, X, y, sample_weight)\u001b[0m\n\u001b[1;32m    804\u001b[0m \u001b[39m# Reset internal state before fitting\u001b[39;00m\n\u001b[1;32m    805\u001b[0m \u001b[39mself\u001b[39m\u001b[39m.\u001b[39m_reset()\n\u001b[0;32m--> 806\u001b[0m \u001b[39mreturn\u001b[39;00m \u001b[39mself\u001b[39;49m\u001b[39m.\u001b[39;49mpartial_fit(X, y, sample_weight)\n",
      "File \u001b[0;32m~/opt/anaconda3/lib/python3.9/site-packages/sklearn/preprocessing/_data.py:841\u001b[0m, in \u001b[0;36mStandardScaler.partial_fit\u001b[0;34m(self, X, y, sample_weight)\u001b[0m\n\u001b[1;32m    809\u001b[0m \u001b[39m\"\"\"Online computation of mean and std on X for later scaling.\u001b[39;00m\n\u001b[1;32m    810\u001b[0m \n\u001b[1;32m    811\u001b[0m \u001b[39mAll of X is processed as a single batch. This is intended for cases\u001b[39;00m\n\u001b[0;32m   (...)\u001b[0m\n\u001b[1;32m    838\u001b[0m \u001b[39m    Fitted scaler.\u001b[39;00m\n\u001b[1;32m    839\u001b[0m \u001b[39m\"\"\"\u001b[39;00m\n\u001b[1;32m    840\u001b[0m first_call \u001b[39m=\u001b[39m \u001b[39mnot\u001b[39;00m \u001b[39mhasattr\u001b[39m(\u001b[39mself\u001b[39m, \u001b[39m\"\u001b[39m\u001b[39mn_samples_seen_\u001b[39m\u001b[39m\"\u001b[39m)\n\u001b[0;32m--> 841\u001b[0m X \u001b[39m=\u001b[39m \u001b[39mself\u001b[39;49m\u001b[39m.\u001b[39;49m_validate_data(\n\u001b[1;32m    842\u001b[0m     X,\n\u001b[1;32m    843\u001b[0m     accept_sparse\u001b[39m=\u001b[39;49m(\u001b[39m\"\u001b[39;49m\u001b[39mcsr\u001b[39;49m\u001b[39m\"\u001b[39;49m, \u001b[39m\"\u001b[39;49m\u001b[39mcsc\u001b[39;49m\u001b[39m\"\u001b[39;49m),\n\u001b[1;32m    844\u001b[0m     estimator\u001b[39m=\u001b[39;49m\u001b[39mself\u001b[39;49m,\n\u001b[1;32m    845\u001b[0m     dtype\u001b[39m=\u001b[39;49mFLOAT_DTYPES,\n\u001b[1;32m    846\u001b[0m     force_all_finite\u001b[39m=\u001b[39;49m\u001b[39m\"\u001b[39;49m\u001b[39mallow-nan\u001b[39;49m\u001b[39m\"\u001b[39;49m,\n\u001b[1;32m    847\u001b[0m     reset\u001b[39m=\u001b[39;49mfirst_call,\n\u001b[1;32m    848\u001b[0m )\n\u001b[1;32m    849\u001b[0m n_features \u001b[39m=\u001b[39m X\u001b[39m.\u001b[39mshape[\u001b[39m1\u001b[39m]\n\u001b[1;32m    851\u001b[0m \u001b[39mif\u001b[39;00m sample_weight \u001b[39mis\u001b[39;00m \u001b[39mnot\u001b[39;00m \u001b[39mNone\u001b[39;00m:\n",
      "File \u001b[0;32m~/opt/anaconda3/lib/python3.9/site-packages/sklearn/base.py:566\u001b[0m, in \u001b[0;36mBaseEstimator._validate_data\u001b[0;34m(self, X, y, reset, validate_separately, **check_params)\u001b[0m\n\u001b[1;32m    564\u001b[0m     \u001b[39mraise\u001b[39;00m \u001b[39mValueError\u001b[39;00m(\u001b[39m\"\u001b[39m\u001b[39mValidation should be done on X, y or both.\u001b[39m\u001b[39m\"\u001b[39m)\n\u001b[1;32m    565\u001b[0m \u001b[39melif\u001b[39;00m \u001b[39mnot\u001b[39;00m no_val_X \u001b[39mand\u001b[39;00m no_val_y:\n\u001b[0;32m--> 566\u001b[0m     X \u001b[39m=\u001b[39m check_array(X, \u001b[39m*\u001b[39;49m\u001b[39m*\u001b[39;49mcheck_params)\n\u001b[1;32m    567\u001b[0m     out \u001b[39m=\u001b[39m X\n\u001b[1;32m    568\u001b[0m \u001b[39melif\u001b[39;00m no_val_X \u001b[39mand\u001b[39;00m \u001b[39mnot\u001b[39;00m no_val_y:\n",
      "File \u001b[0;32m~/opt/anaconda3/lib/python3.9/site-packages/sklearn/utils/validation.py:794\u001b[0m, in \u001b[0;36mcheck_array\u001b[0;34m(array, accept_sparse, accept_large_sparse, dtype, order, copy, force_all_finite, ensure_2d, allow_nd, ensure_min_samples, ensure_min_features, estimator)\u001b[0m\n\u001b[1;32m    789\u001b[0m         \u001b[39mraise\u001b[39;00m \u001b[39mValueError\u001b[39;00m(\n\u001b[1;32m    790\u001b[0m             \u001b[39m\"\u001b[39m\u001b[39mUnable to convert array of bytes/strings \u001b[39m\u001b[39m\"\u001b[39m\n\u001b[1;32m    791\u001b[0m             \u001b[39m\"\u001b[39m\u001b[39minto decimal numbers with dtype=\u001b[39m\u001b[39m'\u001b[39m\u001b[39mnumeric\u001b[39m\u001b[39m'\u001b[39m\u001b[39m\"\u001b[39m\n\u001b[1;32m    792\u001b[0m         ) \u001b[39mfrom\u001b[39;00m \u001b[39me\u001b[39;00m\n\u001b[1;32m    793\u001b[0m \u001b[39mif\u001b[39;00m \u001b[39mnot\u001b[39;00m allow_nd \u001b[39mand\u001b[39;00m array\u001b[39m.\u001b[39mndim \u001b[39m>\u001b[39m\u001b[39m=\u001b[39m \u001b[39m3\u001b[39m:\n\u001b[0;32m--> 794\u001b[0m     \u001b[39mraise\u001b[39;00m \u001b[39mValueError\u001b[39;00m(\n\u001b[1;32m    795\u001b[0m         \u001b[39m\"\u001b[39m\u001b[39mFound array with dim \u001b[39m\u001b[39m%d\u001b[39;00m\u001b[39m. \u001b[39m\u001b[39m%s\u001b[39;00m\u001b[39m expected <= 2.\u001b[39m\u001b[39m\"\u001b[39m\n\u001b[1;32m    796\u001b[0m         \u001b[39m%\u001b[39m (array\u001b[39m.\u001b[39mndim, estimator_name)\n\u001b[1;32m    797\u001b[0m     )\n\u001b[1;32m    799\u001b[0m \u001b[39mif\u001b[39;00m force_all_finite:\n\u001b[1;32m    800\u001b[0m     _assert_all_finite(array, allow_nan\u001b[39m=\u001b[39mforce_all_finite \u001b[39m==\u001b[39m \u001b[39m\"\u001b[39m\u001b[39mallow-nan\u001b[39m\u001b[39m\"\u001b[39m)\n",
      "\u001b[0;31mValueError\u001b[0m: Found array with dim 3. StandardScaler expected <= 2."
     ]
    }
   ],
   "source": [
    "from sklearn.preprocessing import StandardScaler\n",
    "scaler = StandardScaler()\n",
    "X_train = scaler.fit_transform(X_train)\n"
   ]
  },
  {
   "cell_type": "markdown",
   "metadata": {
    "id": "1ca1ada5-1203-4e44-a5aa-38b512d522c6"
   },
   "source": [
    "## Task 3b. Logistic Regression\n",
    "1. Fit the `LogisticRegression` from `scikit-learn`\n",
    "2. Try different parameters (either by hand or by using `GridSearchCV`)\n",
    "\n",
    "\n",
    "**Accuracy should be >= 0.84**"
   ]
  },
  {
   "cell_type": "markdown",
   "metadata": {
    "id": "5Sk55fOkLhgm"
   },
   "source": [
    "If you use GridSearchCV, you could use the skeleton of the code in the next cell, otherwise, skip it. \n",
    "\n",
    "Please, check the documentation on:\n",
    "GridSearchCV: https://scikit-learn.org/stable/modules/generated/sklearn.model_selection.GridSearchCV.html\n",
    "\n",
    "PredefinedSplit: https://scikit-learn.org/stable/modules/generated/sklearn.model_selection.PredefinedSplit.html?highlight=predefinedsplit#sklearn.model_selection.PredefinedSplit"
   ]
  },
  {
   "cell_type": "code",
   "execution_count": 36,
   "metadata": {
    "id": "U5TiVcHmLtAy"
   },
   "outputs": [
    {
     "ename": "NameError",
     "evalue": "name 'X_valid' is not defined",
     "output_type": "error",
     "traceback": [
      "\u001b[0;31m---------------------------------------------------------------------------\u001b[0m",
      "\u001b[0;31mNameError\u001b[0m                                 Traceback (most recent call last)",
      "\u001b[1;32m/Users/armandoshala/PycharmProjects/mldm_hs22/labs/L04_Polynomial_and_Logistic_Regression_LAB_ASSIGNMENT.ipynb Cell 42\u001b[0m in \u001b[0;36m<cell line: 7>\u001b[0;34m()\u001b[0m\n\u001b[1;32m      <a href='vscode-notebook-cell:/Users/armandoshala/PycharmProjects/mldm_hs22/labs/L04_Polynomial_and_Logistic_Regression_LAB_ASSIGNMENT.ipynb#X56sZmlsZQ%3D%3D?line=2'>3</a>\u001b[0m \u001b[39m# We use predefined split in order to control that no train samples would be used in validation step\u001b[39;00m\n\u001b[1;32m      <a href='vscode-notebook-cell:/Users/armandoshala/PycharmProjects/mldm_hs22/labs/L04_Polynomial_and_Logistic_Regression_LAB_ASSIGNMENT.ipynb#X56sZmlsZQ%3D%3D?line=5'>6</a>\u001b[0m train_indices \u001b[39m=\u001b[39m np\u001b[39m.\u001b[39mfull((X_train\u001b[39m.\u001b[39mshape[\u001b[39m0\u001b[39m],), \u001b[39m-\u001b[39m\u001b[39m1\u001b[39m, dtype\u001b[39m=\u001b[39m\u001b[39mint\u001b[39m)\n\u001b[0;32m----> <a href='vscode-notebook-cell:/Users/armandoshala/PycharmProjects/mldm_hs22/labs/L04_Polynomial_and_Logistic_Regression_LAB_ASSIGNMENT.ipynb#X56sZmlsZQ%3D%3D?line=6'>7</a>\u001b[0m test_indices \u001b[39m=\u001b[39m np\u001b[39m.\u001b[39mfull((X_valid\u001b[39m.\u001b[39mshape[\u001b[39m0\u001b[39m],), \u001b[39m0\u001b[39m, dtype\u001b[39m=\u001b[39m\u001b[39mint\u001b[39m)\n\u001b[1;32m      <a href='vscode-notebook-cell:/Users/armandoshala/PycharmProjects/mldm_hs22/labs/L04_Polynomial_and_Logistic_Regression_LAB_ASSIGNMENT.ipynb#X56sZmlsZQ%3D%3D?line=8'>9</a>\u001b[0m ps \u001b[39m=\u001b[39m PredefinedSplit(np\u001b[39m.\u001b[39mappend(train_indices, test_indices))\n\u001b[1;32m     <a href='vscode-notebook-cell:/Users/armandoshala/PycharmProjects/mldm_hs22/labs/L04_Polynomial_and_Logistic_Regression_LAB_ASSIGNMENT.ipynb#X56sZmlsZQ%3D%3D?line=10'>11</a>\u001b[0m \u001b[39m.\u001b[39m\u001b[39m.\u001b[39m\u001b[39m.\u001b[39m\n",
      "\u001b[0;31mNameError\u001b[0m: name 'X_valid' is not defined"
     ]
    }
   ],
   "source": [
    "from sklearn.model_selection import GridSearchCV\n",
    "from sklearn.model_selection import PredefinedSplit\n",
    "# We use predefined split in order to control that no train samples would be used in validation step\n",
    "\n",
    "\n",
    "train_indices = np.full((X_train.shape[0],), -1, dtype=int)\n",
    "test_indices = np.full((X_valid.shape[0],), 0, dtype=int)\n",
    "\n",
    "ps = PredefinedSplit(np.append(train_indices, test_indices))\n",
    "\n",
    "...\n",
    "\n",
    "clf = LogisticRegression()\n",
    "opt = GridSearchCV(clf, cv=ps, param_grid={'C': [0.001, 0.01, 0.1, 1, 10, 100, 1000]}, scoring='accuracy')\n",
    "\n",
    "# when we fit the model, we should use both training and validation samples\n",
    "\n",
    "opt.fit(np.append(X_train, X_valid, axis=0), np.append(y_train, y_valid, axis=0))"
   ]
  },
  {
   "cell_type": "markdown",
   "metadata": {
    "id": "X5JzFGLlMvk8"
   },
   "source": [
    "Use the best found parameters for the next steps."
   ]
  },
  {
   "cell_type": "markdown",
   "metadata": {
    "id": "JFqGPd65aM_l"
   },
   "source": [
    "3. Calculate the Accuracy, Precision, Recall, and F-Score on the validation set (The metrics can be found in `scikit-learn` library)\n",
    "4. Print the confusion Matrix (hint: you can use function `heatmap()` of `seaborn` library)"
   ]
  },
  {
   "cell_type": "code",
   "execution_count": 37,
   "metadata": {
    "id": "d34138f1-d52a-4cb1-8b49-732f4d711d7a"
   },
   "outputs": [
    {
     "ename": "NameError",
     "evalue": "name 'opt' is not defined",
     "output_type": "error",
     "traceback": [
      "\u001b[0;31m---------------------------------------------------------------------------\u001b[0m",
      "\u001b[0;31mNameError\u001b[0m                                 Traceback (most recent call last)",
      "\u001b[1;32m/Users/armandoshala/PycharmProjects/mldm_hs22/labs/L04_Polynomial_and_Logistic_Regression_LAB_ASSIGNMENT.ipynb Cell 45\u001b[0m in \u001b[0;36m<cell line: 1>\u001b[0;34m()\u001b[0m\n\u001b[0;32m----> <a href='vscode-notebook-cell:/Users/armandoshala/PycharmProjects/mldm_hs22/labs/L04_Polynomial_and_Logistic_Regression_LAB_ASSIGNMENT.ipynb#X62sZmlsZQ%3D%3D?line=0'>1</a>\u001b[0m \u001b[39mprint\u001b[39m(opt\u001b[39m.\u001b[39mbest_params_)\n\u001b[1;32m      <a href='vscode-notebook-cell:/Users/armandoshala/PycharmProjects/mldm_hs22/labs/L04_Polynomial_and_Logistic_Regression_LAB_ASSIGNMENT.ipynb#X62sZmlsZQ%3D%3D?line=1'>2</a>\u001b[0m \u001b[39mprint\u001b[39m(opt\u001b[39m.\u001b[39mbest_score_)\n\u001b[1;32m      <a href='vscode-notebook-cell:/Users/armandoshala/PycharmProjects/mldm_hs22/labs/L04_Polynomial_and_Logistic_Regression_LAB_ASSIGNMENT.ipynb#X62sZmlsZQ%3D%3D?line=2'>3</a>\u001b[0m \u001b[39mprint\u001b[39m(opt\u001b[39m.\u001b[39mbest_estimator_)\n",
      "\u001b[0;31mNameError\u001b[0m: name 'opt' is not defined"
     ]
    }
   ],
   "source": [
    "print(opt.best_params_)\n",
    "print(opt.best_score_)\n",
    "print(opt.best_estimator_)\n",
    "print(opt.cv_results_)\n",
    "print(opt.scorer_)\n",
    "print(opt.n_splits_)\n",
    "print(opt.refit)\n"
   ]
  },
  {
   "cell_type": "markdown",
   "metadata": {
    "id": "n9lT2RiDNPD2"
   },
   "source": [
    "## 📢 **HAND-IN** 📢: Report in Moodle F-Score and the confusion matrix you got in this task."
   ]
  }
 ],
 "metadata": {
  "colab": {
   "provenance": []
  },
  "kernelspec": {
   "display_name": "Python 3.9.12 ('base')",
   "language": "python",
   "name": "python3"
  },
  "language_info": {
   "codemirror_mode": {
    "name": "ipython",
    "version": 3
   },
   "file_extension": ".py",
   "mimetype": "text/x-python",
   "name": "python",
   "nbconvert_exporter": "python",
   "pygments_lexer": "ipython3",
   "version": "3.9.12"
  },
  "vscode": {
   "interpreter": {
    "hash": "d68f48d6f9ae3356d22f9fb3297e98cd159a2dc6674c7ad75bbc3164fe99f484"
   }
  }
 },
 "nbformat": 4,
 "nbformat_minor": 0
}
